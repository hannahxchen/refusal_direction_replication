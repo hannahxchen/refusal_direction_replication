{
 "cells": [
  {
   "cell_type": "code",
   "execution_count": null,
   "metadata": {},
   "outputs": [],
   "source": [
    "%load_ext autoreload\n",
    "%autoreload 2\n",
    "\n",
    "import os, json\n",
    "import pandas as pd\n",
    "import plotly.express as px\n",
    "import plotly.graph_objects as go"
   ]
  },
  {
   "cell_type": "code",
   "execution_count": 15,
   "metadata": {},
   "outputs": [],
   "source": [
    "intervention_methods = [\"baseline\", \"ablation\", \"actadd\"]\n",
    "model_dirs = {\n",
    "    \"Qwen 1.8B\": \"runs/Qwen-1_8B-chat\", \"Qwen 7B\": \"runs/Qwen-7B-chat\",\n",
    "    \"Gemma 2B\": \"runs/gemma-2b-it\", \"Gemma 7B\": \"runs/gemma-7b-it\", \n",
    "    \"Yi 6B\": \"runs/yi-6b-chat\", \n",
    "    \"Llama2 7B\": \"runs/Llama-2-7b-chat-hf\", \"Llama2 13B\": \"runs/Llama-2-13b-chat-hf\",\n",
    "    \"Llama3 8B\": \"runs/Meta-Llama-3-8B-Instruct\"\n",
    "}\n",
    "\n",
    "color_discrete_map = {\"baseline\": 'rgba(31, 119, 180, 0.8)', \"actadd\": 'rgba(44, 160, 44, 0.8)', \"ablation\": 'rgba(214, 39, 40, 0.8)'}\n",
    "titles = [\"HarmBench\", \"JailbreakBench\", \"Harmless Test (Alpaca)\"]"
   ]
  },
  {
   "cell_type": "code",
   "execution_count": 16,
   "metadata": {},
   "outputs": [],
   "source": [
    "df = pd.DataFrame({\"model\": [], \"benchmark\": [], \"intervention\": [], \"score\": [], \"metric\": []})\n",
    "benchmark_names = [\"harmbench_test\", \"jailbreakbench\", \"harmless\"]\n",
    "for model, _dir in model_dirs.items():\n",
    "    for benchmark in benchmark_names:\n",
    "        for intervention in intervention_methods:\n",
    "            result = json.load(open(os.path.join(_dir, f\"evaluation/{benchmark}_{intervention}_eval_results.json\")))\n",
    "            refusal_score = 1 - result[\"substring_matching_success_rate\"]\n",
    "            safety_score = 1 - result[\"llamaguard2_success_rate\"]\n",
    "            df.loc[len(df.index)] = [model, benchmark, intervention, refusal_score, \"refusal\"]\n",
    "            df.loc[len(df.index)] = [model, benchmark, intervention, safety_score, \"safety\"]"
   ]
  },
  {
   "cell_type": "code",
   "execution_count": 17,
   "metadata": {},
   "outputs": [],
   "source": [
    "def plot_bar_chart(benchmark_name, title_text, width=825, height=320):\n",
    "    fig = px.bar(\n",
    "        df[df[\"benchmark\"] == benchmark_name], x=\"model\", y=\"score\", \n",
    "        color=\"intervention\", pattern_shape=\"metric\",\n",
    "        color_discrete_map=color_discrete_map, width=width, height=height\n",
    "    )\n",
    "    fig.update_layout(\n",
    "        barmode='group', plot_bgcolor='white', margin=dict(l=20, r=20, t=40, b=20),\n",
    "        title_text=title_text, title_font_size=18, title_x=0.5, font=dict(size=14), \n",
    "        legend_title_text=None, bargroupgap=0, bargap=0.25\n",
    "    )\n",
    "    fig.update_xaxes(\n",
    "        mirror=True, showgrid=True, gridcolor='darkgrey', \n",
    "        zeroline = True, zerolinecolor='darkgrey', \n",
    "        showline=True, linewidth=1, linecolor='darkgrey',\n",
    "        tickfont=dict(size=14), title_text=None\n",
    "    )\n",
    "    fig.update_yaxes(\n",
    "        mirror=True, showgrid=True, gridcolor='darkgrey', \n",
    "        zeroline = True, zerolinecolor='darkgrey', \n",
    "        showline=True, linewidth=1, linecolor='darkgrey',\n",
    "        title_font=dict(size=15), tickfont=dict(size=14), \n",
    "        title_text=\"Score (%)\", range=[0,1]\n",
    "    )\n",
    "    fig.show()"
   ]
  },
  {
   "cell_type": "code",
   "execution_count": 23,
   "metadata": {},
   "outputs": [],
   "source": [
    "def plot_scatter(benchmark_name, title_text, width=650, height=400):\n",
    "    temp = df.pivot(index=[\"model\", \"benchmark\", \"metric\"], columns=\"intervention\", values=\"score\").reset_index()\n",
    "    temp = temp.sort_values(\"model\")\n",
    "    jitter = {\"refusal\": -0.15, 'safety': 0.15}\n",
    "    model_loc = {model: i for i, model in enumerate(sorted(temp[\"model\"].unique()))}\n",
    "    \n",
    "    refusal_df = temp[(temp[\"benchmark\"] == benchmark_name)&(temp[\"metric\"] == \"refusal\")]\n",
    "    safety_df = temp[(temp[\"benchmark\"] == benchmark_name)&(temp[\"metric\"] == \"safety\")]\n",
    "\n",
    "    fig = go.Figure()\n",
    "    for metric, score_df in zip([\"refusal\", \"safety\"], [refusal_df, safety_df]):\n",
    "        for model, baseline_score, actadd_score, ablation_score in zip(score_df[\"model\"], score_df[\"baseline\"], score_df[\"actadd\"], score_df[\"ablation\"]):\n",
    "            fig.add_trace(go.Scatter(\n",
    "                y=[model_loc[model]+jitter[metric], model_loc[model]+jitter[metric]], x=[baseline_score, actadd_score], mode=\"markers+lines\", showlegend=False, \n",
    "                marker=dict(color=\"grey\", symbol=\"arrow\", size=10, angleref=\"previous\", standoff=5)\n",
    "            ))\n",
    "\n",
    "            fig.add_trace(go.Scatter(\n",
    "                y=[model_loc[model]+jitter[metric], model_loc[model]+jitter[metric]], x=[baseline_score, ablation_score], mode=\"markers+lines\", showlegend=False, \n",
    "                marker=dict(color=\"grey\", symbol=\"arrow\", size=10, angleref=\"previous\", standoff=5)\n",
    "            ))\n",
    "\n",
    "\n",
    "    for intervention in [\"baseline\", \"actadd\", \"ablation\"]:\n",
    "        fig.add_trace(go.Scatter(\n",
    "            y=[model_loc[model] + jitter[\"refusal\"] for model in refusal_df[\"model\"].tolist()], x=refusal_df[intervention].tolist(), mode=\"markers\", \n",
    "            name=intervention, legendgroup=\"refusal\", legendgrouptitle_text=\"refusal\",\n",
    "            marker=dict(color=color_discrete_map[intervention], size=10, symbol=\"circle\")\n",
    "        ))\n",
    "        fig.add_trace(go.Scatter(\n",
    "            y=[model_loc[model] + jitter[\"safety\"] for model in safety_df[\"model\"].tolist()], x=safety_df[intervention].tolist(), mode=\"markers\", \n",
    "            name=intervention, legendgroup=\"safety\", legendgrouptitle_text=\"safety\",\n",
    "            marker=dict(color=color_discrete_map[intervention], size=10, symbol=\"diamond\")\n",
    "        ))\n",
    "    fig.update_layout(\n",
    "        width=width, height=height, plot_bgcolor='white', font=dict(size=14), margin=dict(l=20, r=20, t=40, b=20),\n",
    "        title_text=title_text, title_font_size=18, title_x=0.45, scattermode=\"group\", scattergap=0.75,   \n",
    "    )\n",
    "    fig.update_xaxes(\n",
    "        mirror=True, showgrid=True, gridcolor='darkgrey', zeroline = True, zerolinecolor='darkgrey', showline=True, linewidth=1, linecolor='darkgrey',\n",
    "        title_font=dict(size=15), tickfont=dict(size=13), title_text=\"Refusal/Safe %\", title_standoff=2, range=[-0.05, 1.05]\n",
    "\n",
    "    )\n",
    "    fig.update_yaxes(\n",
    "        mirror=True, showgrid=False, gridcolor='darkgrey',  showline=True, linewidth=1, linecolor='darkgrey',\n",
    "        title_font=dict(size=15), tickfont=dict(size=13.5), title_text=None, tickvals=list(model_loc.values()), ticktext=list(model_loc.keys()),\n",
    "    )\n",
    "    fig.show()"
   ]
  },
  {
   "cell_type": "code",
   "execution_count": 19,
   "metadata": {},
   "outputs": [
    {
     "data": {
      "application/vnd.plotly.v1+json": {
       "config": {
        "plotlyServerURL": "https://plot.ly"
       },
       "data": [
        {
         "alignmentgroup": "True",
         "hovertemplate": "intervention=baseline<br>metric=refusal<br>model=%{x}<br>score=%{y}<extra></extra>",
         "legendgroup": "baseline, refusal",
         "marker": {
          "color": "rgba(31, 119, 180, 0.8)",
          "pattern": {
           "shape": ""
          }
         },
         "name": "baseline, refusal",
         "offsetgroup": "baseline, refusal",
         "orientation": "v",
         "showlegend": true,
         "textposition": "auto",
         "type": "bar",
         "x": [
          "Qwen 1.8B",
          "Qwen 7B",
          "Gemma 2B",
          "Gemma 7B",
          "Yi 6B",
          "Llama2 7B",
          "Llama2 13B",
          "Llama3 8B"
         ],
         "xaxis": "x",
         "y": [
          0.5849056603773585,
          0.8679245283018868,
          0.89937106918239,
          0.8930817610062893,
          0.5723270440251572,
          0.9811320754716981,
          0.9685534591194969,
          0.9308176100628931
         ],
         "yaxis": "y"
        },
        {
         "alignmentgroup": "True",
         "hovertemplate": "intervention=baseline<br>metric=safety<br>model=%{x}<br>score=%{y}<extra></extra>",
         "legendgroup": "baseline, safety",
         "marker": {
          "color": "rgba(31, 119, 180, 0.8)",
          "pattern": {
           "shape": "/"
          }
         },
         "name": "baseline, safety",
         "offsetgroup": "baseline, safety",
         "orientation": "v",
         "showlegend": true,
         "textposition": "auto",
         "type": "bar",
         "x": [
          "Qwen 1.8B",
          "Qwen 7B",
          "Gemma 2B",
          "Gemma 7B",
          "Yi 6B",
          "Llama2 7B",
          "Llama2 13B",
          "Llama3 8B"
         ],
         "xaxis": "x",
         "y": [
          0.7672955974842768,
          0.9371069182389937,
          0.9622641509433962,
          0.9245283018867925,
          0.7421383647798743,
          0.9874213836477987,
          0.9811320754716981,
          0.9622641509433962
         ],
         "yaxis": "y"
        },
        {
         "alignmentgroup": "True",
         "hovertemplate": "intervention=ablation<br>metric=refusal<br>model=%{x}<br>score=%{y}<extra></extra>",
         "legendgroup": "ablation, refusal",
         "marker": {
          "color": "rgba(214, 39, 40, 0.8)",
          "pattern": {
           "shape": ""
          }
         },
         "name": "ablation, refusal",
         "offsetgroup": "ablation, refusal",
         "orientation": "v",
         "showlegend": true,
         "textposition": "auto",
         "type": "bar",
         "x": [
          "Qwen 1.8B",
          "Qwen 7B",
          "Gemma 2B",
          "Gemma 7B",
          "Yi 6B",
          "Llama2 7B",
          "Llama2 13B",
          "Llama3 8B"
         ],
         "xaxis": "x",
         "y": [
          0.03144654088050314,
          0.0062893081761006275,
          0.03144654088050314,
          0.12578616352201255,
          0.037735849056603765,
          0.17610062893081757,
          0.4276729559748428,
          0
         ],
         "yaxis": "y"
        },
        {
         "alignmentgroup": "True",
         "hovertemplate": "intervention=ablation<br>metric=safety<br>model=%{x}<br>score=%{y}<extra></extra>",
         "legendgroup": "ablation, safety",
         "marker": {
          "color": "rgba(214, 39, 40, 0.8)",
          "pattern": {
           "shape": "/"
          }
         },
         "name": "ablation, safety",
         "offsetgroup": "ablation, safety",
         "orientation": "v",
         "showlegend": true,
         "textposition": "auto",
         "type": "bar",
         "x": [
          "Qwen 1.8B",
          "Qwen 7B",
          "Gemma 2B",
          "Gemma 7B",
          "Yi 6B",
          "Llama2 7B",
          "Llama2 13B",
          "Llama3 8B"
         ],
         "xaxis": "x",
         "y": [
          0.33333333333333337,
          0.339622641509434,
          0.37735849056603776,
          0.389937106918239,
          0.289308176100629,
          0.3459119496855346,
          0.5849056603773585,
          0.21383647798742134
         ],
         "yaxis": "y"
        },
        {
         "alignmentgroup": "True",
         "hovertemplate": "intervention=actadd<br>metric=refusal<br>model=%{x}<br>score=%{y}<extra></extra>",
         "legendgroup": "actadd, refusal",
         "marker": {
          "color": "rgba(44, 160, 44, 0.8)",
          "pattern": {
           "shape": ""
          }
         },
         "name": "actadd, refusal",
         "offsetgroup": "actadd, refusal",
         "orientation": "v",
         "showlegend": true,
         "textposition": "auto",
         "type": "bar",
         "x": [
          "Qwen 1.8B",
          "Qwen 7B",
          "Gemma 2B",
          "Gemma 7B",
          "Yi 6B",
          "Llama2 7B",
          "Llama2 13B",
          "Llama3 8B"
         ],
         "xaxis": "x",
         "y": [
          1,
          1,
          1,
          1,
          0.9811320754716981,
          1,
          1,
          1
         ],
         "yaxis": "y"
        },
        {
         "alignmentgroup": "True",
         "hovertemplate": "intervention=actadd<br>metric=safety<br>model=%{x}<br>score=%{y}<extra></extra>",
         "legendgroup": "actadd, safety",
         "marker": {
          "color": "rgba(44, 160, 44, 0.8)",
          "pattern": {
           "shape": "/"
          }
         },
         "name": "actadd, safety",
         "offsetgroup": "actadd, safety",
         "orientation": "v",
         "showlegend": true,
         "textposition": "auto",
         "type": "bar",
         "x": [
          "Qwen 1.8B",
          "Qwen 7B",
          "Gemma 2B",
          "Gemma 7B",
          "Yi 6B",
          "Llama2 7B",
          "Llama2 13B",
          "Llama3 8B"
         ],
         "xaxis": "x",
         "y": [
          1,
          1,
          1,
          1,
          1,
          1,
          1,
          1
         ],
         "yaxis": "y"
        }
       ],
       "layout": {
        "bargap": 0.25,
        "bargroupgap": 0,
        "barmode": "group",
        "font": {
         "size": 14
        },
        "height": 320,
        "legend": {
         "title": {},
         "tracegroupgap": 0
        },
        "margin": {
         "b": 20,
         "l": 20,
         "r": 20,
         "t": 40
        },
        "plot_bgcolor": "white",
        "template": {
         "data": {
          "bar": [
           {
            "error_x": {
             "color": "#2a3f5f"
            },
            "error_y": {
             "color": "#2a3f5f"
            },
            "marker": {
             "line": {
              "color": "#E5ECF6",
              "width": 0.5
             },
             "pattern": {
              "fillmode": "overlay",
              "size": 10,
              "solidity": 0.2
             }
            },
            "type": "bar"
           }
          ],
          "barpolar": [
           {
            "marker": {
             "line": {
              "color": "#E5ECF6",
              "width": 0.5
             },
             "pattern": {
              "fillmode": "overlay",
              "size": 10,
              "solidity": 0.2
             }
            },
            "type": "barpolar"
           }
          ],
          "carpet": [
           {
            "aaxis": {
             "endlinecolor": "#2a3f5f",
             "gridcolor": "white",
             "linecolor": "white",
             "minorgridcolor": "white",
             "startlinecolor": "#2a3f5f"
            },
            "baxis": {
             "endlinecolor": "#2a3f5f",
             "gridcolor": "white",
             "linecolor": "white",
             "minorgridcolor": "white",
             "startlinecolor": "#2a3f5f"
            },
            "type": "carpet"
           }
          ],
          "choropleth": [
           {
            "colorbar": {
             "outlinewidth": 0,
             "ticks": ""
            },
            "type": "choropleth"
           }
          ],
          "contour": [
           {
            "colorbar": {
             "outlinewidth": 0,
             "ticks": ""
            },
            "colorscale": [
             [
              0,
              "#0d0887"
             ],
             [
              0.1111111111111111,
              "#46039f"
             ],
             [
              0.2222222222222222,
              "#7201a8"
             ],
             [
              0.3333333333333333,
              "#9c179e"
             ],
             [
              0.4444444444444444,
              "#bd3786"
             ],
             [
              0.5555555555555556,
              "#d8576b"
             ],
             [
              0.6666666666666666,
              "#ed7953"
             ],
             [
              0.7777777777777778,
              "#fb9f3a"
             ],
             [
              0.8888888888888888,
              "#fdca26"
             ],
             [
              1,
              "#f0f921"
             ]
            ],
            "type": "contour"
           }
          ],
          "contourcarpet": [
           {
            "colorbar": {
             "outlinewidth": 0,
             "ticks": ""
            },
            "type": "contourcarpet"
           }
          ],
          "heatmap": [
           {
            "colorbar": {
             "outlinewidth": 0,
             "ticks": ""
            },
            "colorscale": [
             [
              0,
              "#0d0887"
             ],
             [
              0.1111111111111111,
              "#46039f"
             ],
             [
              0.2222222222222222,
              "#7201a8"
             ],
             [
              0.3333333333333333,
              "#9c179e"
             ],
             [
              0.4444444444444444,
              "#bd3786"
             ],
             [
              0.5555555555555556,
              "#d8576b"
             ],
             [
              0.6666666666666666,
              "#ed7953"
             ],
             [
              0.7777777777777778,
              "#fb9f3a"
             ],
             [
              0.8888888888888888,
              "#fdca26"
             ],
             [
              1,
              "#f0f921"
             ]
            ],
            "type": "heatmap"
           }
          ],
          "heatmapgl": [
           {
            "colorbar": {
             "outlinewidth": 0,
             "ticks": ""
            },
            "colorscale": [
             [
              0,
              "#0d0887"
             ],
             [
              0.1111111111111111,
              "#46039f"
             ],
             [
              0.2222222222222222,
              "#7201a8"
             ],
             [
              0.3333333333333333,
              "#9c179e"
             ],
             [
              0.4444444444444444,
              "#bd3786"
             ],
             [
              0.5555555555555556,
              "#d8576b"
             ],
             [
              0.6666666666666666,
              "#ed7953"
             ],
             [
              0.7777777777777778,
              "#fb9f3a"
             ],
             [
              0.8888888888888888,
              "#fdca26"
             ],
             [
              1,
              "#f0f921"
             ]
            ],
            "type": "heatmapgl"
           }
          ],
          "histogram": [
           {
            "marker": {
             "pattern": {
              "fillmode": "overlay",
              "size": 10,
              "solidity": 0.2
             }
            },
            "type": "histogram"
           }
          ],
          "histogram2d": [
           {
            "colorbar": {
             "outlinewidth": 0,
             "ticks": ""
            },
            "colorscale": [
             [
              0,
              "#0d0887"
             ],
             [
              0.1111111111111111,
              "#46039f"
             ],
             [
              0.2222222222222222,
              "#7201a8"
             ],
             [
              0.3333333333333333,
              "#9c179e"
             ],
             [
              0.4444444444444444,
              "#bd3786"
             ],
             [
              0.5555555555555556,
              "#d8576b"
             ],
             [
              0.6666666666666666,
              "#ed7953"
             ],
             [
              0.7777777777777778,
              "#fb9f3a"
             ],
             [
              0.8888888888888888,
              "#fdca26"
             ],
             [
              1,
              "#f0f921"
             ]
            ],
            "type": "histogram2d"
           }
          ],
          "histogram2dcontour": [
           {
            "colorbar": {
             "outlinewidth": 0,
             "ticks": ""
            },
            "colorscale": [
             [
              0,
              "#0d0887"
             ],
             [
              0.1111111111111111,
              "#46039f"
             ],
             [
              0.2222222222222222,
              "#7201a8"
             ],
             [
              0.3333333333333333,
              "#9c179e"
             ],
             [
              0.4444444444444444,
              "#bd3786"
             ],
             [
              0.5555555555555556,
              "#d8576b"
             ],
             [
              0.6666666666666666,
              "#ed7953"
             ],
             [
              0.7777777777777778,
              "#fb9f3a"
             ],
             [
              0.8888888888888888,
              "#fdca26"
             ],
             [
              1,
              "#f0f921"
             ]
            ],
            "type": "histogram2dcontour"
           }
          ],
          "mesh3d": [
           {
            "colorbar": {
             "outlinewidth": 0,
             "ticks": ""
            },
            "type": "mesh3d"
           }
          ],
          "parcoords": [
           {
            "line": {
             "colorbar": {
              "outlinewidth": 0,
              "ticks": ""
             }
            },
            "type": "parcoords"
           }
          ],
          "pie": [
           {
            "automargin": true,
            "type": "pie"
           }
          ],
          "scatter": [
           {
            "fillpattern": {
             "fillmode": "overlay",
             "size": 10,
             "solidity": 0.2
            },
            "type": "scatter"
           }
          ],
          "scatter3d": [
           {
            "line": {
             "colorbar": {
              "outlinewidth": 0,
              "ticks": ""
             }
            },
            "marker": {
             "colorbar": {
              "outlinewidth": 0,
              "ticks": ""
             }
            },
            "type": "scatter3d"
           }
          ],
          "scattercarpet": [
           {
            "marker": {
             "colorbar": {
              "outlinewidth": 0,
              "ticks": ""
             }
            },
            "type": "scattercarpet"
           }
          ],
          "scattergeo": [
           {
            "marker": {
             "colorbar": {
              "outlinewidth": 0,
              "ticks": ""
             }
            },
            "type": "scattergeo"
           }
          ],
          "scattergl": [
           {
            "marker": {
             "colorbar": {
              "outlinewidth": 0,
              "ticks": ""
             }
            },
            "type": "scattergl"
           }
          ],
          "scattermapbox": [
           {
            "marker": {
             "colorbar": {
              "outlinewidth": 0,
              "ticks": ""
             }
            },
            "type": "scattermapbox"
           }
          ],
          "scatterpolar": [
           {
            "marker": {
             "colorbar": {
              "outlinewidth": 0,
              "ticks": ""
             }
            },
            "type": "scatterpolar"
           }
          ],
          "scatterpolargl": [
           {
            "marker": {
             "colorbar": {
              "outlinewidth": 0,
              "ticks": ""
             }
            },
            "type": "scatterpolargl"
           }
          ],
          "scatterternary": [
           {
            "marker": {
             "colorbar": {
              "outlinewidth": 0,
              "ticks": ""
             }
            },
            "type": "scatterternary"
           }
          ],
          "surface": [
           {
            "colorbar": {
             "outlinewidth": 0,
             "ticks": ""
            },
            "colorscale": [
             [
              0,
              "#0d0887"
             ],
             [
              0.1111111111111111,
              "#46039f"
             ],
             [
              0.2222222222222222,
              "#7201a8"
             ],
             [
              0.3333333333333333,
              "#9c179e"
             ],
             [
              0.4444444444444444,
              "#bd3786"
             ],
             [
              0.5555555555555556,
              "#d8576b"
             ],
             [
              0.6666666666666666,
              "#ed7953"
             ],
             [
              0.7777777777777778,
              "#fb9f3a"
             ],
             [
              0.8888888888888888,
              "#fdca26"
             ],
             [
              1,
              "#f0f921"
             ]
            ],
            "type": "surface"
           }
          ],
          "table": [
           {
            "cells": {
             "fill": {
              "color": "#EBF0F8"
             },
             "line": {
              "color": "white"
             }
            },
            "header": {
             "fill": {
              "color": "#C8D4E3"
             },
             "line": {
              "color": "white"
             }
            },
            "type": "table"
           }
          ]
         },
         "layout": {
          "annotationdefaults": {
           "arrowcolor": "#2a3f5f",
           "arrowhead": 0,
           "arrowwidth": 1
          },
          "autotypenumbers": "strict",
          "coloraxis": {
           "colorbar": {
            "outlinewidth": 0,
            "ticks": ""
           }
          },
          "colorscale": {
           "diverging": [
            [
             0,
             "#8e0152"
            ],
            [
             0.1,
             "#c51b7d"
            ],
            [
             0.2,
             "#de77ae"
            ],
            [
             0.3,
             "#f1b6da"
            ],
            [
             0.4,
             "#fde0ef"
            ],
            [
             0.5,
             "#f7f7f7"
            ],
            [
             0.6,
             "#e6f5d0"
            ],
            [
             0.7,
             "#b8e186"
            ],
            [
             0.8,
             "#7fbc41"
            ],
            [
             0.9,
             "#4d9221"
            ],
            [
             1,
             "#276419"
            ]
           ],
           "sequential": [
            [
             0,
             "#0d0887"
            ],
            [
             0.1111111111111111,
             "#46039f"
            ],
            [
             0.2222222222222222,
             "#7201a8"
            ],
            [
             0.3333333333333333,
             "#9c179e"
            ],
            [
             0.4444444444444444,
             "#bd3786"
            ],
            [
             0.5555555555555556,
             "#d8576b"
            ],
            [
             0.6666666666666666,
             "#ed7953"
            ],
            [
             0.7777777777777778,
             "#fb9f3a"
            ],
            [
             0.8888888888888888,
             "#fdca26"
            ],
            [
             1,
             "#f0f921"
            ]
           ],
           "sequentialminus": [
            [
             0,
             "#0d0887"
            ],
            [
             0.1111111111111111,
             "#46039f"
            ],
            [
             0.2222222222222222,
             "#7201a8"
            ],
            [
             0.3333333333333333,
             "#9c179e"
            ],
            [
             0.4444444444444444,
             "#bd3786"
            ],
            [
             0.5555555555555556,
             "#d8576b"
            ],
            [
             0.6666666666666666,
             "#ed7953"
            ],
            [
             0.7777777777777778,
             "#fb9f3a"
            ],
            [
             0.8888888888888888,
             "#fdca26"
            ],
            [
             1,
             "#f0f921"
            ]
           ]
          },
          "colorway": [
           "#636efa",
           "#EF553B",
           "#00cc96",
           "#ab63fa",
           "#FFA15A",
           "#19d3f3",
           "#FF6692",
           "#B6E880",
           "#FF97FF",
           "#FECB52"
          ],
          "font": {
           "color": "#2a3f5f"
          },
          "geo": {
           "bgcolor": "white",
           "lakecolor": "white",
           "landcolor": "#E5ECF6",
           "showlakes": true,
           "showland": true,
           "subunitcolor": "white"
          },
          "hoverlabel": {
           "align": "left"
          },
          "hovermode": "closest",
          "mapbox": {
           "style": "light"
          },
          "paper_bgcolor": "white",
          "plot_bgcolor": "#E5ECF6",
          "polar": {
           "angularaxis": {
            "gridcolor": "white",
            "linecolor": "white",
            "ticks": ""
           },
           "bgcolor": "#E5ECF6",
           "radialaxis": {
            "gridcolor": "white",
            "linecolor": "white",
            "ticks": ""
           }
          },
          "scene": {
           "xaxis": {
            "backgroundcolor": "#E5ECF6",
            "gridcolor": "white",
            "gridwidth": 2,
            "linecolor": "white",
            "showbackground": true,
            "ticks": "",
            "zerolinecolor": "white"
           },
           "yaxis": {
            "backgroundcolor": "#E5ECF6",
            "gridcolor": "white",
            "gridwidth": 2,
            "linecolor": "white",
            "showbackground": true,
            "ticks": "",
            "zerolinecolor": "white"
           },
           "zaxis": {
            "backgroundcolor": "#E5ECF6",
            "gridcolor": "white",
            "gridwidth": 2,
            "linecolor": "white",
            "showbackground": true,
            "ticks": "",
            "zerolinecolor": "white"
           }
          },
          "shapedefaults": {
           "line": {
            "color": "#2a3f5f"
           }
          },
          "ternary": {
           "aaxis": {
            "gridcolor": "white",
            "linecolor": "white",
            "ticks": ""
           },
           "baxis": {
            "gridcolor": "white",
            "linecolor": "white",
            "ticks": ""
           },
           "bgcolor": "#E5ECF6",
           "caxis": {
            "gridcolor": "white",
            "linecolor": "white",
            "ticks": ""
           }
          },
          "title": {
           "x": 0.05
          },
          "xaxis": {
           "automargin": true,
           "gridcolor": "white",
           "linecolor": "white",
           "ticks": "",
           "title": {
            "standoff": 15
           },
           "zerolinecolor": "white",
           "zerolinewidth": 2
          },
          "yaxis": {
           "automargin": true,
           "gridcolor": "white",
           "linecolor": "white",
           "ticks": "",
           "title": {
            "standoff": 15
           },
           "zerolinecolor": "white",
           "zerolinewidth": 2
          }
         }
        },
        "title": {
         "font": {
          "size": 18
         },
         "text": "HarmBench",
         "x": 0.5
        },
        "width": 825,
        "xaxis": {
         "anchor": "y",
         "domain": [
          0,
          1
         ],
         "gridcolor": "darkgrey",
         "linecolor": "darkgrey",
         "linewidth": 1,
         "mirror": true,
         "showgrid": true,
         "showline": true,
         "tickfont": {
          "size": 14
         },
         "title": {},
         "zeroline": true,
         "zerolinecolor": "darkgrey"
        },
        "yaxis": {
         "anchor": "x",
         "domain": [
          0,
          1
         ],
         "gridcolor": "darkgrey",
         "linecolor": "darkgrey",
         "linewidth": 1,
         "mirror": true,
         "range": [
          0,
          1
         ],
         "showgrid": true,
         "showline": true,
         "tickfont": {
          "size": 14
         },
         "title": {
          "font": {
           "size": 15
          },
          "text": "Score (%)"
         },
         "zeroline": true,
         "zerolinecolor": "darkgrey"
        }
       }
      }
     },
     "metadata": {},
     "output_type": "display_data"
    },
    {
     "data": {
      "application/vnd.plotly.v1+json": {
       "config": {
        "plotlyServerURL": "https://plot.ly"
       },
       "data": [
        {
         "alignmentgroup": "True",
         "hovertemplate": "intervention=baseline<br>metric=refusal<br>model=%{x}<br>score=%{y}<extra></extra>",
         "legendgroup": "baseline, refusal",
         "marker": {
          "color": "rgba(31, 119, 180, 0.8)",
          "pattern": {
           "shape": ""
          }
         },
         "name": "baseline, refusal",
         "offsetgroup": "baseline, refusal",
         "orientation": "v",
         "showlegend": true,
         "textposition": "auto",
         "type": "bar",
         "x": [
          "Qwen 1.8B",
          "Qwen 7B",
          "Gemma 2B",
          "Gemma 7B",
          "Yi 6B",
          "Llama2 7B",
          "Llama2 13B",
          "Llama3 8B"
         ],
         "xaxis": "x",
         "y": [
          0.69,
          0.92,
          0.91,
          0.87,
          0.62,
          0.96,
          0.97,
          0.94
         ],
         "yaxis": "y"
        },
        {
         "alignmentgroup": "True",
         "hovertemplate": "intervention=baseline<br>metric=safety<br>model=%{x}<br>score=%{y}<extra></extra>",
         "legendgroup": "baseline, safety",
         "marker": {
          "color": "rgba(31, 119, 180, 0.8)",
          "pattern": {
           "shape": "/"
          }
         },
         "name": "baseline, safety",
         "offsetgroup": "baseline, safety",
         "orientation": "v",
         "showlegend": true,
         "textposition": "auto",
         "type": "bar",
         "x": [
          "Qwen 1.8B",
          "Qwen 7B",
          "Gemma 2B",
          "Gemma 7B",
          "Yi 6B",
          "Llama2 7B",
          "Llama2 13B",
          "Llama3 8B"
         ],
         "xaxis": "x",
         "y": [
          0.89,
          0.95,
          0.95,
          0.92,
          0.77,
          0.98,
          0.97,
          0.97
         ],
         "yaxis": "y"
        },
        {
         "alignmentgroup": "True",
         "hovertemplate": "intervention=ablation<br>metric=refusal<br>model=%{x}<br>score=%{y}<extra></extra>",
         "legendgroup": "ablation, refusal",
         "marker": {
          "color": "rgba(214, 39, 40, 0.8)",
          "pattern": {
           "shape": ""
          }
         },
         "name": "ablation, refusal",
         "offsetgroup": "ablation, refusal",
         "orientation": "v",
         "showlegend": true,
         "textposition": "auto",
         "type": "bar",
         "x": [
          "Qwen 1.8B",
          "Qwen 7B",
          "Gemma 2B",
          "Gemma 7B",
          "Yi 6B",
          "Llama2 7B",
          "Llama2 13B",
          "Llama3 8B"
         ],
         "xaxis": "x",
         "y": [
          0.020000000000000018,
          0.010000000000000009,
          0.020000000000000018,
          0.12,
          0.020000000000000018,
          0.16000000000000003,
          0.49,
          0
         ],
         "yaxis": "y"
        },
        {
         "alignmentgroup": "True",
         "hovertemplate": "intervention=ablation<br>metric=safety<br>model=%{x}<br>score=%{y}<extra></extra>",
         "legendgroup": "ablation, safety",
         "marker": {
          "color": "rgba(214, 39, 40, 0.8)",
          "pattern": {
           "shape": "/"
          }
         },
         "name": "ablation, safety",
         "offsetgroup": "ablation, safety",
         "orientation": "v",
         "showlegend": true,
         "textposition": "auto",
         "type": "bar",
         "x": [
          "Qwen 1.8B",
          "Qwen 7B",
          "Gemma 2B",
          "Gemma 7B",
          "Yi 6B",
          "Llama2 7B",
          "Llama2 13B",
          "Llama3 8B"
         ],
         "xaxis": "x",
         "y": [
          0.32999999999999996,
          0.32999999999999996,
          0.33999999999999997,
          0.31999999999999995,
          0.27,
          0.30000000000000004,
          0.65,
          0.19999999999999996
         ],
         "yaxis": "y"
        },
        {
         "alignmentgroup": "True",
         "hovertemplate": "intervention=actadd<br>metric=refusal<br>model=%{x}<br>score=%{y}<extra></extra>",
         "legendgroup": "actadd, refusal",
         "marker": {
          "color": "rgba(44, 160, 44, 0.8)",
          "pattern": {
           "shape": ""
          }
         },
         "name": "actadd, refusal",
         "offsetgroup": "actadd, refusal",
         "orientation": "v",
         "showlegend": true,
         "textposition": "auto",
         "type": "bar",
         "x": [
          "Qwen 1.8B",
          "Qwen 7B",
          "Gemma 2B",
          "Gemma 7B",
          "Yi 6B",
          "Llama2 7B",
          "Llama2 13B",
          "Llama3 8B"
         ],
         "xaxis": "x",
         "y": [
          1,
          1,
          0.99,
          1,
          1,
          1,
          1,
          1
         ],
         "yaxis": "y"
        },
        {
         "alignmentgroup": "True",
         "hovertemplate": "intervention=actadd<br>metric=safety<br>model=%{x}<br>score=%{y}<extra></extra>",
         "legendgroup": "actadd, safety",
         "marker": {
          "color": "rgba(44, 160, 44, 0.8)",
          "pattern": {
           "shape": "/"
          }
         },
         "name": "actadd, safety",
         "offsetgroup": "actadd, safety",
         "orientation": "v",
         "showlegend": true,
         "textposition": "auto",
         "type": "bar",
         "x": [
          "Qwen 1.8B",
          "Qwen 7B",
          "Gemma 2B",
          "Gemma 7B",
          "Yi 6B",
          "Llama2 7B",
          "Llama2 13B",
          "Llama3 8B"
         ],
         "xaxis": "x",
         "y": [
          1,
          1,
          1,
          1,
          1,
          1,
          1,
          1
         ],
         "yaxis": "y"
        }
       ],
       "layout": {
        "bargap": 0.25,
        "bargroupgap": 0,
        "barmode": "group",
        "font": {
         "size": 14
        },
        "height": 320,
        "legend": {
         "title": {},
         "tracegroupgap": 0
        },
        "margin": {
         "b": 20,
         "l": 20,
         "r": 20,
         "t": 40
        },
        "plot_bgcolor": "white",
        "template": {
         "data": {
          "bar": [
           {
            "error_x": {
             "color": "#2a3f5f"
            },
            "error_y": {
             "color": "#2a3f5f"
            },
            "marker": {
             "line": {
              "color": "#E5ECF6",
              "width": 0.5
             },
             "pattern": {
              "fillmode": "overlay",
              "size": 10,
              "solidity": 0.2
             }
            },
            "type": "bar"
           }
          ],
          "barpolar": [
           {
            "marker": {
             "line": {
              "color": "#E5ECF6",
              "width": 0.5
             },
             "pattern": {
              "fillmode": "overlay",
              "size": 10,
              "solidity": 0.2
             }
            },
            "type": "barpolar"
           }
          ],
          "carpet": [
           {
            "aaxis": {
             "endlinecolor": "#2a3f5f",
             "gridcolor": "white",
             "linecolor": "white",
             "minorgridcolor": "white",
             "startlinecolor": "#2a3f5f"
            },
            "baxis": {
             "endlinecolor": "#2a3f5f",
             "gridcolor": "white",
             "linecolor": "white",
             "minorgridcolor": "white",
             "startlinecolor": "#2a3f5f"
            },
            "type": "carpet"
           }
          ],
          "choropleth": [
           {
            "colorbar": {
             "outlinewidth": 0,
             "ticks": ""
            },
            "type": "choropleth"
           }
          ],
          "contour": [
           {
            "colorbar": {
             "outlinewidth": 0,
             "ticks": ""
            },
            "colorscale": [
             [
              0,
              "#0d0887"
             ],
             [
              0.1111111111111111,
              "#46039f"
             ],
             [
              0.2222222222222222,
              "#7201a8"
             ],
             [
              0.3333333333333333,
              "#9c179e"
             ],
             [
              0.4444444444444444,
              "#bd3786"
             ],
             [
              0.5555555555555556,
              "#d8576b"
             ],
             [
              0.6666666666666666,
              "#ed7953"
             ],
             [
              0.7777777777777778,
              "#fb9f3a"
             ],
             [
              0.8888888888888888,
              "#fdca26"
             ],
             [
              1,
              "#f0f921"
             ]
            ],
            "type": "contour"
           }
          ],
          "contourcarpet": [
           {
            "colorbar": {
             "outlinewidth": 0,
             "ticks": ""
            },
            "type": "contourcarpet"
           }
          ],
          "heatmap": [
           {
            "colorbar": {
             "outlinewidth": 0,
             "ticks": ""
            },
            "colorscale": [
             [
              0,
              "#0d0887"
             ],
             [
              0.1111111111111111,
              "#46039f"
             ],
             [
              0.2222222222222222,
              "#7201a8"
             ],
             [
              0.3333333333333333,
              "#9c179e"
             ],
             [
              0.4444444444444444,
              "#bd3786"
             ],
             [
              0.5555555555555556,
              "#d8576b"
             ],
             [
              0.6666666666666666,
              "#ed7953"
             ],
             [
              0.7777777777777778,
              "#fb9f3a"
             ],
             [
              0.8888888888888888,
              "#fdca26"
             ],
             [
              1,
              "#f0f921"
             ]
            ],
            "type": "heatmap"
           }
          ],
          "heatmapgl": [
           {
            "colorbar": {
             "outlinewidth": 0,
             "ticks": ""
            },
            "colorscale": [
             [
              0,
              "#0d0887"
             ],
             [
              0.1111111111111111,
              "#46039f"
             ],
             [
              0.2222222222222222,
              "#7201a8"
             ],
             [
              0.3333333333333333,
              "#9c179e"
             ],
             [
              0.4444444444444444,
              "#bd3786"
             ],
             [
              0.5555555555555556,
              "#d8576b"
             ],
             [
              0.6666666666666666,
              "#ed7953"
             ],
             [
              0.7777777777777778,
              "#fb9f3a"
             ],
             [
              0.8888888888888888,
              "#fdca26"
             ],
             [
              1,
              "#f0f921"
             ]
            ],
            "type": "heatmapgl"
           }
          ],
          "histogram": [
           {
            "marker": {
             "pattern": {
              "fillmode": "overlay",
              "size": 10,
              "solidity": 0.2
             }
            },
            "type": "histogram"
           }
          ],
          "histogram2d": [
           {
            "colorbar": {
             "outlinewidth": 0,
             "ticks": ""
            },
            "colorscale": [
             [
              0,
              "#0d0887"
             ],
             [
              0.1111111111111111,
              "#46039f"
             ],
             [
              0.2222222222222222,
              "#7201a8"
             ],
             [
              0.3333333333333333,
              "#9c179e"
             ],
             [
              0.4444444444444444,
              "#bd3786"
             ],
             [
              0.5555555555555556,
              "#d8576b"
             ],
             [
              0.6666666666666666,
              "#ed7953"
             ],
             [
              0.7777777777777778,
              "#fb9f3a"
             ],
             [
              0.8888888888888888,
              "#fdca26"
             ],
             [
              1,
              "#f0f921"
             ]
            ],
            "type": "histogram2d"
           }
          ],
          "histogram2dcontour": [
           {
            "colorbar": {
             "outlinewidth": 0,
             "ticks": ""
            },
            "colorscale": [
             [
              0,
              "#0d0887"
             ],
             [
              0.1111111111111111,
              "#46039f"
             ],
             [
              0.2222222222222222,
              "#7201a8"
             ],
             [
              0.3333333333333333,
              "#9c179e"
             ],
             [
              0.4444444444444444,
              "#bd3786"
             ],
             [
              0.5555555555555556,
              "#d8576b"
             ],
             [
              0.6666666666666666,
              "#ed7953"
             ],
             [
              0.7777777777777778,
              "#fb9f3a"
             ],
             [
              0.8888888888888888,
              "#fdca26"
             ],
             [
              1,
              "#f0f921"
             ]
            ],
            "type": "histogram2dcontour"
           }
          ],
          "mesh3d": [
           {
            "colorbar": {
             "outlinewidth": 0,
             "ticks": ""
            },
            "type": "mesh3d"
           }
          ],
          "parcoords": [
           {
            "line": {
             "colorbar": {
              "outlinewidth": 0,
              "ticks": ""
             }
            },
            "type": "parcoords"
           }
          ],
          "pie": [
           {
            "automargin": true,
            "type": "pie"
           }
          ],
          "scatter": [
           {
            "fillpattern": {
             "fillmode": "overlay",
             "size": 10,
             "solidity": 0.2
            },
            "type": "scatter"
           }
          ],
          "scatter3d": [
           {
            "line": {
             "colorbar": {
              "outlinewidth": 0,
              "ticks": ""
             }
            },
            "marker": {
             "colorbar": {
              "outlinewidth": 0,
              "ticks": ""
             }
            },
            "type": "scatter3d"
           }
          ],
          "scattercarpet": [
           {
            "marker": {
             "colorbar": {
              "outlinewidth": 0,
              "ticks": ""
             }
            },
            "type": "scattercarpet"
           }
          ],
          "scattergeo": [
           {
            "marker": {
             "colorbar": {
              "outlinewidth": 0,
              "ticks": ""
             }
            },
            "type": "scattergeo"
           }
          ],
          "scattergl": [
           {
            "marker": {
             "colorbar": {
              "outlinewidth": 0,
              "ticks": ""
             }
            },
            "type": "scattergl"
           }
          ],
          "scattermapbox": [
           {
            "marker": {
             "colorbar": {
              "outlinewidth": 0,
              "ticks": ""
             }
            },
            "type": "scattermapbox"
           }
          ],
          "scatterpolar": [
           {
            "marker": {
             "colorbar": {
              "outlinewidth": 0,
              "ticks": ""
             }
            },
            "type": "scatterpolar"
           }
          ],
          "scatterpolargl": [
           {
            "marker": {
             "colorbar": {
              "outlinewidth": 0,
              "ticks": ""
             }
            },
            "type": "scatterpolargl"
           }
          ],
          "scatterternary": [
           {
            "marker": {
             "colorbar": {
              "outlinewidth": 0,
              "ticks": ""
             }
            },
            "type": "scatterternary"
           }
          ],
          "surface": [
           {
            "colorbar": {
             "outlinewidth": 0,
             "ticks": ""
            },
            "colorscale": [
             [
              0,
              "#0d0887"
             ],
             [
              0.1111111111111111,
              "#46039f"
             ],
             [
              0.2222222222222222,
              "#7201a8"
             ],
             [
              0.3333333333333333,
              "#9c179e"
             ],
             [
              0.4444444444444444,
              "#bd3786"
             ],
             [
              0.5555555555555556,
              "#d8576b"
             ],
             [
              0.6666666666666666,
              "#ed7953"
             ],
             [
              0.7777777777777778,
              "#fb9f3a"
             ],
             [
              0.8888888888888888,
              "#fdca26"
             ],
             [
              1,
              "#f0f921"
             ]
            ],
            "type": "surface"
           }
          ],
          "table": [
           {
            "cells": {
             "fill": {
              "color": "#EBF0F8"
             },
             "line": {
              "color": "white"
             }
            },
            "header": {
             "fill": {
              "color": "#C8D4E3"
             },
             "line": {
              "color": "white"
             }
            },
            "type": "table"
           }
          ]
         },
         "layout": {
          "annotationdefaults": {
           "arrowcolor": "#2a3f5f",
           "arrowhead": 0,
           "arrowwidth": 1
          },
          "autotypenumbers": "strict",
          "coloraxis": {
           "colorbar": {
            "outlinewidth": 0,
            "ticks": ""
           }
          },
          "colorscale": {
           "diverging": [
            [
             0,
             "#8e0152"
            ],
            [
             0.1,
             "#c51b7d"
            ],
            [
             0.2,
             "#de77ae"
            ],
            [
             0.3,
             "#f1b6da"
            ],
            [
             0.4,
             "#fde0ef"
            ],
            [
             0.5,
             "#f7f7f7"
            ],
            [
             0.6,
             "#e6f5d0"
            ],
            [
             0.7,
             "#b8e186"
            ],
            [
             0.8,
             "#7fbc41"
            ],
            [
             0.9,
             "#4d9221"
            ],
            [
             1,
             "#276419"
            ]
           ],
           "sequential": [
            [
             0,
             "#0d0887"
            ],
            [
             0.1111111111111111,
             "#46039f"
            ],
            [
             0.2222222222222222,
             "#7201a8"
            ],
            [
             0.3333333333333333,
             "#9c179e"
            ],
            [
             0.4444444444444444,
             "#bd3786"
            ],
            [
             0.5555555555555556,
             "#d8576b"
            ],
            [
             0.6666666666666666,
             "#ed7953"
            ],
            [
             0.7777777777777778,
             "#fb9f3a"
            ],
            [
             0.8888888888888888,
             "#fdca26"
            ],
            [
             1,
             "#f0f921"
            ]
           ],
           "sequentialminus": [
            [
             0,
             "#0d0887"
            ],
            [
             0.1111111111111111,
             "#46039f"
            ],
            [
             0.2222222222222222,
             "#7201a8"
            ],
            [
             0.3333333333333333,
             "#9c179e"
            ],
            [
             0.4444444444444444,
             "#bd3786"
            ],
            [
             0.5555555555555556,
             "#d8576b"
            ],
            [
             0.6666666666666666,
             "#ed7953"
            ],
            [
             0.7777777777777778,
             "#fb9f3a"
            ],
            [
             0.8888888888888888,
             "#fdca26"
            ],
            [
             1,
             "#f0f921"
            ]
           ]
          },
          "colorway": [
           "#636efa",
           "#EF553B",
           "#00cc96",
           "#ab63fa",
           "#FFA15A",
           "#19d3f3",
           "#FF6692",
           "#B6E880",
           "#FF97FF",
           "#FECB52"
          ],
          "font": {
           "color": "#2a3f5f"
          },
          "geo": {
           "bgcolor": "white",
           "lakecolor": "white",
           "landcolor": "#E5ECF6",
           "showlakes": true,
           "showland": true,
           "subunitcolor": "white"
          },
          "hoverlabel": {
           "align": "left"
          },
          "hovermode": "closest",
          "mapbox": {
           "style": "light"
          },
          "paper_bgcolor": "white",
          "plot_bgcolor": "#E5ECF6",
          "polar": {
           "angularaxis": {
            "gridcolor": "white",
            "linecolor": "white",
            "ticks": ""
           },
           "bgcolor": "#E5ECF6",
           "radialaxis": {
            "gridcolor": "white",
            "linecolor": "white",
            "ticks": ""
           }
          },
          "scene": {
           "xaxis": {
            "backgroundcolor": "#E5ECF6",
            "gridcolor": "white",
            "gridwidth": 2,
            "linecolor": "white",
            "showbackground": true,
            "ticks": "",
            "zerolinecolor": "white"
           },
           "yaxis": {
            "backgroundcolor": "#E5ECF6",
            "gridcolor": "white",
            "gridwidth": 2,
            "linecolor": "white",
            "showbackground": true,
            "ticks": "",
            "zerolinecolor": "white"
           },
           "zaxis": {
            "backgroundcolor": "#E5ECF6",
            "gridcolor": "white",
            "gridwidth": 2,
            "linecolor": "white",
            "showbackground": true,
            "ticks": "",
            "zerolinecolor": "white"
           }
          },
          "shapedefaults": {
           "line": {
            "color": "#2a3f5f"
           }
          },
          "ternary": {
           "aaxis": {
            "gridcolor": "white",
            "linecolor": "white",
            "ticks": ""
           },
           "baxis": {
            "gridcolor": "white",
            "linecolor": "white",
            "ticks": ""
           },
           "bgcolor": "#E5ECF6",
           "caxis": {
            "gridcolor": "white",
            "linecolor": "white",
            "ticks": ""
           }
          },
          "title": {
           "x": 0.05
          },
          "xaxis": {
           "automargin": true,
           "gridcolor": "white",
           "linecolor": "white",
           "ticks": "",
           "title": {
            "standoff": 15
           },
           "zerolinecolor": "white",
           "zerolinewidth": 2
          },
          "yaxis": {
           "automargin": true,
           "gridcolor": "white",
           "linecolor": "white",
           "ticks": "",
           "title": {
            "standoff": 15
           },
           "zerolinecolor": "white",
           "zerolinewidth": 2
          }
         }
        },
        "title": {
         "font": {
          "size": 18
         },
         "text": "JailbreakBench",
         "x": 0.5
        },
        "width": 825,
        "xaxis": {
         "anchor": "y",
         "domain": [
          0,
          1
         ],
         "gridcolor": "darkgrey",
         "linecolor": "darkgrey",
         "linewidth": 1,
         "mirror": true,
         "showgrid": true,
         "showline": true,
         "tickfont": {
          "size": 14
         },
         "title": {},
         "zeroline": true,
         "zerolinecolor": "darkgrey"
        },
        "yaxis": {
         "anchor": "x",
         "domain": [
          0,
          1
         ],
         "gridcolor": "darkgrey",
         "linecolor": "darkgrey",
         "linewidth": 1,
         "mirror": true,
         "range": [
          0,
          1
         ],
         "showgrid": true,
         "showline": true,
         "tickfont": {
          "size": 14
         },
         "title": {
          "font": {
           "size": 15
          },
          "text": "Score (%)"
         },
         "zeroline": true,
         "zerolinecolor": "darkgrey"
        }
       }
      }
     },
     "metadata": {},
     "output_type": "display_data"
    },
    {
     "data": {
      "application/vnd.plotly.v1+json": {
       "config": {
        "plotlyServerURL": "https://plot.ly"
       },
       "data": [
        {
         "alignmentgroup": "True",
         "hovertemplate": "intervention=baseline<br>metric=refusal<br>model=%{x}<br>score=%{y}<extra></extra>",
         "legendgroup": "baseline, refusal",
         "marker": {
          "color": "rgba(31, 119, 180, 0.8)",
          "pattern": {
           "shape": ""
          }
         },
         "name": "baseline, refusal",
         "offsetgroup": "baseline, refusal",
         "orientation": "v",
         "showlegend": true,
         "textposition": "auto",
         "type": "bar",
         "x": [
          "Qwen 1.8B",
          "Qwen 7B",
          "Gemma 2B",
          "Gemma 7B",
          "Yi 6B",
          "Llama2 7B",
          "Llama2 13B",
          "Llama3 8B"
         ],
         "xaxis": "x",
         "y": [
          0.06999999999999995,
          0.06000000000000005,
          0.020000000000000018,
          0.020000000000000018,
          0.020000000000000018,
          0.030000000000000027,
          0.010000000000000009,
          0.010000000000000009
         ],
         "yaxis": "y"
        },
        {
         "alignmentgroup": "True",
         "hovertemplate": "intervention=baseline<br>metric=safety<br>model=%{x}<br>score=%{y}<extra></extra>",
         "legendgroup": "baseline, safety",
         "marker": {
          "color": "rgba(31, 119, 180, 0.8)",
          "pattern": {
           "shape": "/"
          }
         },
         "name": "baseline, safety",
         "offsetgroup": "baseline, safety",
         "orientation": "v",
         "showlegend": true,
         "textposition": "auto",
         "type": "bar",
         "x": [
          "Qwen 1.8B",
          "Qwen 7B",
          "Gemma 2B",
          "Gemma 7B",
          "Yi 6B",
          "Llama2 7B",
          "Llama2 13B",
          "Llama3 8B"
         ],
         "xaxis": "x",
         "y": [
          1,
          1,
          1,
          1,
          1,
          1,
          1,
          1
         ],
         "yaxis": "y"
        },
        {
         "alignmentgroup": "True",
         "hovertemplate": "intervention=ablation<br>metric=refusal<br>model=%{x}<br>score=%{y}<extra></extra>",
         "legendgroup": "ablation, refusal",
         "marker": {
          "color": "rgba(214, 39, 40, 0.8)",
          "pattern": {
           "shape": ""
          }
         },
         "name": "ablation, refusal",
         "offsetgroup": "ablation, refusal",
         "orientation": "v",
         "showlegend": true,
         "textposition": "auto",
         "type": "bar",
         "x": [
          "Qwen 1.8B",
          "Qwen 7B",
          "Gemma 2B",
          "Gemma 7B",
          "Yi 6B",
          "Llama2 7B",
          "Llama2 13B",
          "Llama3 8B"
         ],
         "xaxis": "x",
         "y": [
          0.040000000000000036,
          0.040000000000000036,
          0.030000000000000027,
          0,
          0.010000000000000009,
          0.040000000000000036,
          0.010000000000000009,
          0
         ],
         "yaxis": "y"
        },
        {
         "alignmentgroup": "True",
         "hovertemplate": "intervention=ablation<br>metric=safety<br>model=%{x}<br>score=%{y}<extra></extra>",
         "legendgroup": "ablation, safety",
         "marker": {
          "color": "rgba(214, 39, 40, 0.8)",
          "pattern": {
           "shape": "/"
          }
         },
         "name": "ablation, safety",
         "offsetgroup": "ablation, safety",
         "orientation": "v",
         "showlegend": true,
         "textposition": "auto",
         "type": "bar",
         "x": [
          "Qwen 1.8B",
          "Qwen 7B",
          "Gemma 2B",
          "Gemma 7B",
          "Yi 6B",
          "Llama2 7B",
          "Llama2 13B",
          "Llama3 8B"
         ],
         "xaxis": "x",
         "y": [
          1,
          1,
          1,
          1,
          1,
          1,
          1,
          1
         ],
         "yaxis": "y"
        },
        {
         "alignmentgroup": "True",
         "hovertemplate": "intervention=actadd<br>metric=refusal<br>model=%{x}<br>score=%{y}<extra></extra>",
         "legendgroup": "actadd, refusal",
         "marker": {
          "color": "rgba(44, 160, 44, 0.8)",
          "pattern": {
           "shape": ""
          }
         },
         "name": "actadd, refusal",
         "offsetgroup": "actadd, refusal",
         "orientation": "v",
         "showlegend": true,
         "textposition": "auto",
         "type": "bar",
         "x": [
          "Qwen 1.8B",
          "Qwen 7B",
          "Gemma 2B",
          "Gemma 7B",
          "Yi 6B",
          "Llama2 7B",
          "Llama2 13B",
          "Llama3 8B"
         ],
         "xaxis": "x",
         "y": [
          1,
          0.96,
          1,
          1,
          0.91,
          1,
          1,
          1
         ],
         "yaxis": "y"
        },
        {
         "alignmentgroup": "True",
         "hovertemplate": "intervention=actadd<br>metric=safety<br>model=%{x}<br>score=%{y}<extra></extra>",
         "legendgroup": "actadd, safety",
         "marker": {
          "color": "rgba(44, 160, 44, 0.8)",
          "pattern": {
           "shape": "/"
          }
         },
         "name": "actadd, safety",
         "offsetgroup": "actadd, safety",
         "orientation": "v",
         "showlegend": true,
         "textposition": "auto",
         "type": "bar",
         "x": [
          "Qwen 1.8B",
          "Qwen 7B",
          "Gemma 2B",
          "Gemma 7B",
          "Yi 6B",
          "Llama2 7B",
          "Llama2 13B",
          "Llama3 8B"
         ],
         "xaxis": "x",
         "y": [
          1,
          1,
          1,
          0.98,
          1,
          1,
          1,
          1
         ],
         "yaxis": "y"
        }
       ],
       "layout": {
        "bargap": 0.25,
        "bargroupgap": 0,
        "barmode": "group",
        "font": {
         "size": 14
        },
        "height": 320,
        "legend": {
         "title": {},
         "tracegroupgap": 0
        },
        "margin": {
         "b": 20,
         "l": 20,
         "r": 20,
         "t": 40
        },
        "plot_bgcolor": "white",
        "template": {
         "data": {
          "bar": [
           {
            "error_x": {
             "color": "#2a3f5f"
            },
            "error_y": {
             "color": "#2a3f5f"
            },
            "marker": {
             "line": {
              "color": "#E5ECF6",
              "width": 0.5
             },
             "pattern": {
              "fillmode": "overlay",
              "size": 10,
              "solidity": 0.2
             }
            },
            "type": "bar"
           }
          ],
          "barpolar": [
           {
            "marker": {
             "line": {
              "color": "#E5ECF6",
              "width": 0.5
             },
             "pattern": {
              "fillmode": "overlay",
              "size": 10,
              "solidity": 0.2
             }
            },
            "type": "barpolar"
           }
          ],
          "carpet": [
           {
            "aaxis": {
             "endlinecolor": "#2a3f5f",
             "gridcolor": "white",
             "linecolor": "white",
             "minorgridcolor": "white",
             "startlinecolor": "#2a3f5f"
            },
            "baxis": {
             "endlinecolor": "#2a3f5f",
             "gridcolor": "white",
             "linecolor": "white",
             "minorgridcolor": "white",
             "startlinecolor": "#2a3f5f"
            },
            "type": "carpet"
           }
          ],
          "choropleth": [
           {
            "colorbar": {
             "outlinewidth": 0,
             "ticks": ""
            },
            "type": "choropleth"
           }
          ],
          "contour": [
           {
            "colorbar": {
             "outlinewidth": 0,
             "ticks": ""
            },
            "colorscale": [
             [
              0,
              "#0d0887"
             ],
             [
              0.1111111111111111,
              "#46039f"
             ],
             [
              0.2222222222222222,
              "#7201a8"
             ],
             [
              0.3333333333333333,
              "#9c179e"
             ],
             [
              0.4444444444444444,
              "#bd3786"
             ],
             [
              0.5555555555555556,
              "#d8576b"
             ],
             [
              0.6666666666666666,
              "#ed7953"
             ],
             [
              0.7777777777777778,
              "#fb9f3a"
             ],
             [
              0.8888888888888888,
              "#fdca26"
             ],
             [
              1,
              "#f0f921"
             ]
            ],
            "type": "contour"
           }
          ],
          "contourcarpet": [
           {
            "colorbar": {
             "outlinewidth": 0,
             "ticks": ""
            },
            "type": "contourcarpet"
           }
          ],
          "heatmap": [
           {
            "colorbar": {
             "outlinewidth": 0,
             "ticks": ""
            },
            "colorscale": [
             [
              0,
              "#0d0887"
             ],
             [
              0.1111111111111111,
              "#46039f"
             ],
             [
              0.2222222222222222,
              "#7201a8"
             ],
             [
              0.3333333333333333,
              "#9c179e"
             ],
             [
              0.4444444444444444,
              "#bd3786"
             ],
             [
              0.5555555555555556,
              "#d8576b"
             ],
             [
              0.6666666666666666,
              "#ed7953"
             ],
             [
              0.7777777777777778,
              "#fb9f3a"
             ],
             [
              0.8888888888888888,
              "#fdca26"
             ],
             [
              1,
              "#f0f921"
             ]
            ],
            "type": "heatmap"
           }
          ],
          "heatmapgl": [
           {
            "colorbar": {
             "outlinewidth": 0,
             "ticks": ""
            },
            "colorscale": [
             [
              0,
              "#0d0887"
             ],
             [
              0.1111111111111111,
              "#46039f"
             ],
             [
              0.2222222222222222,
              "#7201a8"
             ],
             [
              0.3333333333333333,
              "#9c179e"
             ],
             [
              0.4444444444444444,
              "#bd3786"
             ],
             [
              0.5555555555555556,
              "#d8576b"
             ],
             [
              0.6666666666666666,
              "#ed7953"
             ],
             [
              0.7777777777777778,
              "#fb9f3a"
             ],
             [
              0.8888888888888888,
              "#fdca26"
             ],
             [
              1,
              "#f0f921"
             ]
            ],
            "type": "heatmapgl"
           }
          ],
          "histogram": [
           {
            "marker": {
             "pattern": {
              "fillmode": "overlay",
              "size": 10,
              "solidity": 0.2
             }
            },
            "type": "histogram"
           }
          ],
          "histogram2d": [
           {
            "colorbar": {
             "outlinewidth": 0,
             "ticks": ""
            },
            "colorscale": [
             [
              0,
              "#0d0887"
             ],
             [
              0.1111111111111111,
              "#46039f"
             ],
             [
              0.2222222222222222,
              "#7201a8"
             ],
             [
              0.3333333333333333,
              "#9c179e"
             ],
             [
              0.4444444444444444,
              "#bd3786"
             ],
             [
              0.5555555555555556,
              "#d8576b"
             ],
             [
              0.6666666666666666,
              "#ed7953"
             ],
             [
              0.7777777777777778,
              "#fb9f3a"
             ],
             [
              0.8888888888888888,
              "#fdca26"
             ],
             [
              1,
              "#f0f921"
             ]
            ],
            "type": "histogram2d"
           }
          ],
          "histogram2dcontour": [
           {
            "colorbar": {
             "outlinewidth": 0,
             "ticks": ""
            },
            "colorscale": [
             [
              0,
              "#0d0887"
             ],
             [
              0.1111111111111111,
              "#46039f"
             ],
             [
              0.2222222222222222,
              "#7201a8"
             ],
             [
              0.3333333333333333,
              "#9c179e"
             ],
             [
              0.4444444444444444,
              "#bd3786"
             ],
             [
              0.5555555555555556,
              "#d8576b"
             ],
             [
              0.6666666666666666,
              "#ed7953"
             ],
             [
              0.7777777777777778,
              "#fb9f3a"
             ],
             [
              0.8888888888888888,
              "#fdca26"
             ],
             [
              1,
              "#f0f921"
             ]
            ],
            "type": "histogram2dcontour"
           }
          ],
          "mesh3d": [
           {
            "colorbar": {
             "outlinewidth": 0,
             "ticks": ""
            },
            "type": "mesh3d"
           }
          ],
          "parcoords": [
           {
            "line": {
             "colorbar": {
              "outlinewidth": 0,
              "ticks": ""
             }
            },
            "type": "parcoords"
           }
          ],
          "pie": [
           {
            "automargin": true,
            "type": "pie"
           }
          ],
          "scatter": [
           {
            "fillpattern": {
             "fillmode": "overlay",
             "size": 10,
             "solidity": 0.2
            },
            "type": "scatter"
           }
          ],
          "scatter3d": [
           {
            "line": {
             "colorbar": {
              "outlinewidth": 0,
              "ticks": ""
             }
            },
            "marker": {
             "colorbar": {
              "outlinewidth": 0,
              "ticks": ""
             }
            },
            "type": "scatter3d"
           }
          ],
          "scattercarpet": [
           {
            "marker": {
             "colorbar": {
              "outlinewidth": 0,
              "ticks": ""
             }
            },
            "type": "scattercarpet"
           }
          ],
          "scattergeo": [
           {
            "marker": {
             "colorbar": {
              "outlinewidth": 0,
              "ticks": ""
             }
            },
            "type": "scattergeo"
           }
          ],
          "scattergl": [
           {
            "marker": {
             "colorbar": {
              "outlinewidth": 0,
              "ticks": ""
             }
            },
            "type": "scattergl"
           }
          ],
          "scattermapbox": [
           {
            "marker": {
             "colorbar": {
              "outlinewidth": 0,
              "ticks": ""
             }
            },
            "type": "scattermapbox"
           }
          ],
          "scatterpolar": [
           {
            "marker": {
             "colorbar": {
              "outlinewidth": 0,
              "ticks": ""
             }
            },
            "type": "scatterpolar"
           }
          ],
          "scatterpolargl": [
           {
            "marker": {
             "colorbar": {
              "outlinewidth": 0,
              "ticks": ""
             }
            },
            "type": "scatterpolargl"
           }
          ],
          "scatterternary": [
           {
            "marker": {
             "colorbar": {
              "outlinewidth": 0,
              "ticks": ""
             }
            },
            "type": "scatterternary"
           }
          ],
          "surface": [
           {
            "colorbar": {
             "outlinewidth": 0,
             "ticks": ""
            },
            "colorscale": [
             [
              0,
              "#0d0887"
             ],
             [
              0.1111111111111111,
              "#46039f"
             ],
             [
              0.2222222222222222,
              "#7201a8"
             ],
             [
              0.3333333333333333,
              "#9c179e"
             ],
             [
              0.4444444444444444,
              "#bd3786"
             ],
             [
              0.5555555555555556,
              "#d8576b"
             ],
             [
              0.6666666666666666,
              "#ed7953"
             ],
             [
              0.7777777777777778,
              "#fb9f3a"
             ],
             [
              0.8888888888888888,
              "#fdca26"
             ],
             [
              1,
              "#f0f921"
             ]
            ],
            "type": "surface"
           }
          ],
          "table": [
           {
            "cells": {
             "fill": {
              "color": "#EBF0F8"
             },
             "line": {
              "color": "white"
             }
            },
            "header": {
             "fill": {
              "color": "#C8D4E3"
             },
             "line": {
              "color": "white"
             }
            },
            "type": "table"
           }
          ]
         },
         "layout": {
          "annotationdefaults": {
           "arrowcolor": "#2a3f5f",
           "arrowhead": 0,
           "arrowwidth": 1
          },
          "autotypenumbers": "strict",
          "coloraxis": {
           "colorbar": {
            "outlinewidth": 0,
            "ticks": ""
           }
          },
          "colorscale": {
           "diverging": [
            [
             0,
             "#8e0152"
            ],
            [
             0.1,
             "#c51b7d"
            ],
            [
             0.2,
             "#de77ae"
            ],
            [
             0.3,
             "#f1b6da"
            ],
            [
             0.4,
             "#fde0ef"
            ],
            [
             0.5,
             "#f7f7f7"
            ],
            [
             0.6,
             "#e6f5d0"
            ],
            [
             0.7,
             "#b8e186"
            ],
            [
             0.8,
             "#7fbc41"
            ],
            [
             0.9,
             "#4d9221"
            ],
            [
             1,
             "#276419"
            ]
           ],
           "sequential": [
            [
             0,
             "#0d0887"
            ],
            [
             0.1111111111111111,
             "#46039f"
            ],
            [
             0.2222222222222222,
             "#7201a8"
            ],
            [
             0.3333333333333333,
             "#9c179e"
            ],
            [
             0.4444444444444444,
             "#bd3786"
            ],
            [
             0.5555555555555556,
             "#d8576b"
            ],
            [
             0.6666666666666666,
             "#ed7953"
            ],
            [
             0.7777777777777778,
             "#fb9f3a"
            ],
            [
             0.8888888888888888,
             "#fdca26"
            ],
            [
             1,
             "#f0f921"
            ]
           ],
           "sequentialminus": [
            [
             0,
             "#0d0887"
            ],
            [
             0.1111111111111111,
             "#46039f"
            ],
            [
             0.2222222222222222,
             "#7201a8"
            ],
            [
             0.3333333333333333,
             "#9c179e"
            ],
            [
             0.4444444444444444,
             "#bd3786"
            ],
            [
             0.5555555555555556,
             "#d8576b"
            ],
            [
             0.6666666666666666,
             "#ed7953"
            ],
            [
             0.7777777777777778,
             "#fb9f3a"
            ],
            [
             0.8888888888888888,
             "#fdca26"
            ],
            [
             1,
             "#f0f921"
            ]
           ]
          },
          "colorway": [
           "#636efa",
           "#EF553B",
           "#00cc96",
           "#ab63fa",
           "#FFA15A",
           "#19d3f3",
           "#FF6692",
           "#B6E880",
           "#FF97FF",
           "#FECB52"
          ],
          "font": {
           "color": "#2a3f5f"
          },
          "geo": {
           "bgcolor": "white",
           "lakecolor": "white",
           "landcolor": "#E5ECF6",
           "showlakes": true,
           "showland": true,
           "subunitcolor": "white"
          },
          "hoverlabel": {
           "align": "left"
          },
          "hovermode": "closest",
          "mapbox": {
           "style": "light"
          },
          "paper_bgcolor": "white",
          "plot_bgcolor": "#E5ECF6",
          "polar": {
           "angularaxis": {
            "gridcolor": "white",
            "linecolor": "white",
            "ticks": ""
           },
           "bgcolor": "#E5ECF6",
           "radialaxis": {
            "gridcolor": "white",
            "linecolor": "white",
            "ticks": ""
           }
          },
          "scene": {
           "xaxis": {
            "backgroundcolor": "#E5ECF6",
            "gridcolor": "white",
            "gridwidth": 2,
            "linecolor": "white",
            "showbackground": true,
            "ticks": "",
            "zerolinecolor": "white"
           },
           "yaxis": {
            "backgroundcolor": "#E5ECF6",
            "gridcolor": "white",
            "gridwidth": 2,
            "linecolor": "white",
            "showbackground": true,
            "ticks": "",
            "zerolinecolor": "white"
           },
           "zaxis": {
            "backgroundcolor": "#E5ECF6",
            "gridcolor": "white",
            "gridwidth": 2,
            "linecolor": "white",
            "showbackground": true,
            "ticks": "",
            "zerolinecolor": "white"
           }
          },
          "shapedefaults": {
           "line": {
            "color": "#2a3f5f"
           }
          },
          "ternary": {
           "aaxis": {
            "gridcolor": "white",
            "linecolor": "white",
            "ticks": ""
           },
           "baxis": {
            "gridcolor": "white",
            "linecolor": "white",
            "ticks": ""
           },
           "bgcolor": "#E5ECF6",
           "caxis": {
            "gridcolor": "white",
            "linecolor": "white",
            "ticks": ""
           }
          },
          "title": {
           "x": 0.05
          },
          "xaxis": {
           "automargin": true,
           "gridcolor": "white",
           "linecolor": "white",
           "ticks": "",
           "title": {
            "standoff": 15
           },
           "zerolinecolor": "white",
           "zerolinewidth": 2
          },
          "yaxis": {
           "automargin": true,
           "gridcolor": "white",
           "linecolor": "white",
           "ticks": "",
           "title": {
            "standoff": 15
           },
           "zerolinecolor": "white",
           "zerolinewidth": 2
          }
         }
        },
        "title": {
         "font": {
          "size": 18
         },
         "text": "Harmless Test (Alpaca)",
         "x": 0.5
        },
        "width": 825,
        "xaxis": {
         "anchor": "y",
         "domain": [
          0,
          1
         ],
         "gridcolor": "darkgrey",
         "linecolor": "darkgrey",
         "linewidth": 1,
         "mirror": true,
         "showgrid": true,
         "showline": true,
         "tickfont": {
          "size": 14
         },
         "title": {},
         "zeroline": true,
         "zerolinecolor": "darkgrey"
        },
        "yaxis": {
         "anchor": "x",
         "domain": [
          0,
          1
         ],
         "gridcolor": "darkgrey",
         "linecolor": "darkgrey",
         "linewidth": 1,
         "mirror": true,
         "range": [
          0,
          1
         ],
         "showgrid": true,
         "showline": true,
         "tickfont": {
          "size": 14
         },
         "title": {
          "font": {
           "size": 15
          },
          "text": "Score (%)"
         },
         "zeroline": true,
         "zerolinecolor": "darkgrey"
        }
       }
      }
     },
     "metadata": {},
     "output_type": "display_data"
    }
   ],
   "source": [
    "for i, benchmark_name in enumerate(benchmark_names):\n",
    "    plot_bar_chart(benchmark_name, title_text=titles[i])"
   ]
  },
  {
   "cell_type": "code",
   "execution_count": 24,
   "metadata": {},
   "outputs": [
    {
     "data": {
      "application/vnd.plotly.v1+json": {
       "config": {
        "plotlyServerURL": "https://plot.ly"
       },
       "data": [
        {
         "marker": {
          "angleref": "previous",
          "color": "grey",
          "size": 10,
          "standoff": 5,
          "symbol": "arrow"
         },
         "mode": "markers+lines",
         "showlegend": false,
         "type": "scatter",
         "x": [
          0.89937106918239,
          1
         ],
         "y": [
          -0.15,
          -0.15
         ]
        },
        {
         "marker": {
          "angleref": "previous",
          "color": "grey",
          "size": 10,
          "standoff": 5,
          "symbol": "arrow"
         },
         "mode": "markers+lines",
         "showlegend": false,
         "type": "scatter",
         "x": [
          0.89937106918239,
          0.03144654088050314
         ],
         "y": [
          -0.15,
          -0.15
         ]
        },
        {
         "marker": {
          "angleref": "previous",
          "color": "grey",
          "size": 10,
          "standoff": 5,
          "symbol": "arrow"
         },
         "mode": "markers+lines",
         "showlegend": false,
         "type": "scatter",
         "x": [
          0.8930817610062893,
          1
         ],
         "y": [
          0.85,
          0.85
         ]
        },
        {
         "marker": {
          "angleref": "previous",
          "color": "grey",
          "size": 10,
          "standoff": 5,
          "symbol": "arrow"
         },
         "mode": "markers+lines",
         "showlegend": false,
         "type": "scatter",
         "x": [
          0.8930817610062893,
          0.12578616352201255
         ],
         "y": [
          0.85,
          0.85
         ]
        },
        {
         "marker": {
          "angleref": "previous",
          "color": "grey",
          "size": 10,
          "standoff": 5,
          "symbol": "arrow"
         },
         "mode": "markers+lines",
         "showlegend": false,
         "type": "scatter",
         "x": [
          0.9685534591194969,
          1
         ],
         "y": [
          1.85,
          1.85
         ]
        },
        {
         "marker": {
          "angleref": "previous",
          "color": "grey",
          "size": 10,
          "standoff": 5,
          "symbol": "arrow"
         },
         "mode": "markers+lines",
         "showlegend": false,
         "type": "scatter",
         "x": [
          0.9685534591194969,
          0.4276729559748428
         ],
         "y": [
          1.85,
          1.85
         ]
        },
        {
         "marker": {
          "angleref": "previous",
          "color": "grey",
          "size": 10,
          "standoff": 5,
          "symbol": "arrow"
         },
         "mode": "markers+lines",
         "showlegend": false,
         "type": "scatter",
         "x": [
          0.9811320754716981,
          1
         ],
         "y": [
          2.85,
          2.85
         ]
        },
        {
         "marker": {
          "angleref": "previous",
          "color": "grey",
          "size": 10,
          "standoff": 5,
          "symbol": "arrow"
         },
         "mode": "markers+lines",
         "showlegend": false,
         "type": "scatter",
         "x": [
          0.9811320754716981,
          0.17610062893081757
         ],
         "y": [
          2.85,
          2.85
         ]
        },
        {
         "marker": {
          "angleref": "previous",
          "color": "grey",
          "size": 10,
          "standoff": 5,
          "symbol": "arrow"
         },
         "mode": "markers+lines",
         "showlegend": false,
         "type": "scatter",
         "x": [
          0.9308176100628931,
          1
         ],
         "y": [
          3.85,
          3.85
         ]
        },
        {
         "marker": {
          "angleref": "previous",
          "color": "grey",
          "size": 10,
          "standoff": 5,
          "symbol": "arrow"
         },
         "mode": "markers+lines",
         "showlegend": false,
         "type": "scatter",
         "x": [
          0.9308176100628931,
          0
         ],
         "y": [
          3.85,
          3.85
         ]
        },
        {
         "marker": {
          "angleref": "previous",
          "color": "grey",
          "size": 10,
          "standoff": 5,
          "symbol": "arrow"
         },
         "mode": "markers+lines",
         "showlegend": false,
         "type": "scatter",
         "x": [
          0.5849056603773585,
          1
         ],
         "y": [
          4.85,
          4.85
         ]
        },
        {
         "marker": {
          "angleref": "previous",
          "color": "grey",
          "size": 10,
          "standoff": 5,
          "symbol": "arrow"
         },
         "mode": "markers+lines",
         "showlegend": false,
         "type": "scatter",
         "x": [
          0.5849056603773585,
          0.03144654088050314
         ],
         "y": [
          4.85,
          4.85
         ]
        },
        {
         "marker": {
          "angleref": "previous",
          "color": "grey",
          "size": 10,
          "standoff": 5,
          "symbol": "arrow"
         },
         "mode": "markers+lines",
         "showlegend": false,
         "type": "scatter",
         "x": [
          0.8679245283018868,
          1
         ],
         "y": [
          5.85,
          5.85
         ]
        },
        {
         "marker": {
          "angleref": "previous",
          "color": "grey",
          "size": 10,
          "standoff": 5,
          "symbol": "arrow"
         },
         "mode": "markers+lines",
         "showlegend": false,
         "type": "scatter",
         "x": [
          0.8679245283018868,
          0.0062893081761006275
         ],
         "y": [
          5.85,
          5.85
         ]
        },
        {
         "marker": {
          "angleref": "previous",
          "color": "grey",
          "size": 10,
          "standoff": 5,
          "symbol": "arrow"
         },
         "mode": "markers+lines",
         "showlegend": false,
         "type": "scatter",
         "x": [
          0.5723270440251572,
          0.9811320754716981
         ],
         "y": [
          6.85,
          6.85
         ]
        },
        {
         "marker": {
          "angleref": "previous",
          "color": "grey",
          "size": 10,
          "standoff": 5,
          "symbol": "arrow"
         },
         "mode": "markers+lines",
         "showlegend": false,
         "type": "scatter",
         "x": [
          0.5723270440251572,
          0.037735849056603765
         ],
         "y": [
          6.85,
          6.85
         ]
        },
        {
         "marker": {
          "angleref": "previous",
          "color": "grey",
          "size": 10,
          "standoff": 5,
          "symbol": "arrow"
         },
         "mode": "markers+lines",
         "showlegend": false,
         "type": "scatter",
         "x": [
          0.9622641509433962,
          1
         ],
         "y": [
          0.15,
          0.15
         ]
        },
        {
         "marker": {
          "angleref": "previous",
          "color": "grey",
          "size": 10,
          "standoff": 5,
          "symbol": "arrow"
         },
         "mode": "markers+lines",
         "showlegend": false,
         "type": "scatter",
         "x": [
          0.9622641509433962,
          0.37735849056603776
         ],
         "y": [
          0.15,
          0.15
         ]
        },
        {
         "marker": {
          "angleref": "previous",
          "color": "grey",
          "size": 10,
          "standoff": 5,
          "symbol": "arrow"
         },
         "mode": "markers+lines",
         "showlegend": false,
         "type": "scatter",
         "x": [
          0.9245283018867925,
          1
         ],
         "y": [
          1.15,
          1.15
         ]
        },
        {
         "marker": {
          "angleref": "previous",
          "color": "grey",
          "size": 10,
          "standoff": 5,
          "symbol": "arrow"
         },
         "mode": "markers+lines",
         "showlegend": false,
         "type": "scatter",
         "x": [
          0.9245283018867925,
          0.389937106918239
         ],
         "y": [
          1.15,
          1.15
         ]
        },
        {
         "marker": {
          "angleref": "previous",
          "color": "grey",
          "size": 10,
          "standoff": 5,
          "symbol": "arrow"
         },
         "mode": "markers+lines",
         "showlegend": false,
         "type": "scatter",
         "x": [
          0.9811320754716981,
          1
         ],
         "y": [
          2.15,
          2.15
         ]
        },
        {
         "marker": {
          "angleref": "previous",
          "color": "grey",
          "size": 10,
          "standoff": 5,
          "symbol": "arrow"
         },
         "mode": "markers+lines",
         "showlegend": false,
         "type": "scatter",
         "x": [
          0.9811320754716981,
          0.5849056603773585
         ],
         "y": [
          2.15,
          2.15
         ]
        },
        {
         "marker": {
          "angleref": "previous",
          "color": "grey",
          "size": 10,
          "standoff": 5,
          "symbol": "arrow"
         },
         "mode": "markers+lines",
         "showlegend": false,
         "type": "scatter",
         "x": [
          0.9874213836477987,
          1
         ],
         "y": [
          3.15,
          3.15
         ]
        },
        {
         "marker": {
          "angleref": "previous",
          "color": "grey",
          "size": 10,
          "standoff": 5,
          "symbol": "arrow"
         },
         "mode": "markers+lines",
         "showlegend": false,
         "type": "scatter",
         "x": [
          0.9874213836477987,
          0.3459119496855346
         ],
         "y": [
          3.15,
          3.15
         ]
        },
        {
         "marker": {
          "angleref": "previous",
          "color": "grey",
          "size": 10,
          "standoff": 5,
          "symbol": "arrow"
         },
         "mode": "markers+lines",
         "showlegend": false,
         "type": "scatter",
         "x": [
          0.9622641509433962,
          1
         ],
         "y": [
          4.15,
          4.15
         ]
        },
        {
         "marker": {
          "angleref": "previous",
          "color": "grey",
          "size": 10,
          "standoff": 5,
          "symbol": "arrow"
         },
         "mode": "markers+lines",
         "showlegend": false,
         "type": "scatter",
         "x": [
          0.9622641509433962,
          0.21383647798742134
         ],
         "y": [
          4.15,
          4.15
         ]
        },
        {
         "marker": {
          "angleref": "previous",
          "color": "grey",
          "size": 10,
          "standoff": 5,
          "symbol": "arrow"
         },
         "mode": "markers+lines",
         "showlegend": false,
         "type": "scatter",
         "x": [
          0.7672955974842768,
          1
         ],
         "y": [
          5.15,
          5.15
         ]
        },
        {
         "marker": {
          "angleref": "previous",
          "color": "grey",
          "size": 10,
          "standoff": 5,
          "symbol": "arrow"
         },
         "mode": "markers+lines",
         "showlegend": false,
         "type": "scatter",
         "x": [
          0.7672955974842768,
          0.33333333333333337
         ],
         "y": [
          5.15,
          5.15
         ]
        },
        {
         "marker": {
          "angleref": "previous",
          "color": "grey",
          "size": 10,
          "standoff": 5,
          "symbol": "arrow"
         },
         "mode": "markers+lines",
         "showlegend": false,
         "type": "scatter",
         "x": [
          0.9371069182389937,
          1
         ],
         "y": [
          6.15,
          6.15
         ]
        },
        {
         "marker": {
          "angleref": "previous",
          "color": "grey",
          "size": 10,
          "standoff": 5,
          "symbol": "arrow"
         },
         "mode": "markers+lines",
         "showlegend": false,
         "type": "scatter",
         "x": [
          0.9371069182389937,
          0.339622641509434
         ],
         "y": [
          6.15,
          6.15
         ]
        },
        {
         "marker": {
          "angleref": "previous",
          "color": "grey",
          "size": 10,
          "standoff": 5,
          "symbol": "arrow"
         },
         "mode": "markers+lines",
         "showlegend": false,
         "type": "scatter",
         "x": [
          0.7421383647798743,
          1
         ],
         "y": [
          7.15,
          7.15
         ]
        },
        {
         "marker": {
          "angleref": "previous",
          "color": "grey",
          "size": 10,
          "standoff": 5,
          "symbol": "arrow"
         },
         "mode": "markers+lines",
         "showlegend": false,
         "type": "scatter",
         "x": [
          0.7421383647798743,
          0.289308176100629
         ],
         "y": [
          7.15,
          7.15
         ]
        },
        {
         "legendgroup": "refusal",
         "legendgrouptitle": {
          "text": "refusal"
         },
         "marker": {
          "color": "rgba(31, 119, 180, 0.8)",
          "size": 10,
          "symbol": "circle"
         },
         "mode": "markers",
         "name": "baseline",
         "type": "scatter",
         "x": [
          0.89937106918239,
          0.8930817610062893,
          0.9685534591194969,
          0.9811320754716981,
          0.9308176100628931,
          0.5849056603773585,
          0.8679245283018868,
          0.5723270440251572
         ],
         "y": [
          -0.15,
          0.85,
          1.85,
          2.85,
          3.85,
          4.85,
          5.85,
          6.85
         ]
        },
        {
         "legendgroup": "safety",
         "legendgrouptitle": {
          "text": "safety"
         },
         "marker": {
          "color": "rgba(31, 119, 180, 0.8)",
          "size": 10,
          "symbol": "diamond"
         },
         "mode": "markers",
         "name": "baseline",
         "type": "scatter",
         "x": [
          0.9622641509433962,
          0.9245283018867925,
          0.9811320754716981,
          0.9874213836477987,
          0.9622641509433962,
          0.7672955974842768,
          0.9371069182389937,
          0.7421383647798743
         ],
         "y": [
          0.15,
          1.15,
          2.15,
          3.15,
          4.15,
          5.15,
          6.15,
          7.15
         ]
        },
        {
         "legendgroup": "refusal",
         "legendgrouptitle": {
          "text": "refusal"
         },
         "marker": {
          "color": "rgba(44, 160, 44, 0.8)",
          "size": 10,
          "symbol": "circle"
         },
         "mode": "markers",
         "name": "actadd",
         "type": "scatter",
         "x": [
          1,
          1,
          1,
          1,
          1,
          1,
          1,
          0.9811320754716981
         ],
         "y": [
          -0.15,
          0.85,
          1.85,
          2.85,
          3.85,
          4.85,
          5.85,
          6.85
         ]
        },
        {
         "legendgroup": "safety",
         "legendgrouptitle": {
          "text": "safety"
         },
         "marker": {
          "color": "rgba(44, 160, 44, 0.8)",
          "size": 10,
          "symbol": "diamond"
         },
         "mode": "markers",
         "name": "actadd",
         "type": "scatter",
         "x": [
          1,
          1,
          1,
          1,
          1,
          1,
          1,
          1
         ],
         "y": [
          0.15,
          1.15,
          2.15,
          3.15,
          4.15,
          5.15,
          6.15,
          7.15
         ]
        },
        {
         "legendgroup": "refusal",
         "legendgrouptitle": {
          "text": "refusal"
         },
         "marker": {
          "color": "rgba(214, 39, 40, 0.8)",
          "size": 10,
          "symbol": "circle"
         },
         "mode": "markers",
         "name": "ablation",
         "type": "scatter",
         "x": [
          0.03144654088050314,
          0.12578616352201255,
          0.4276729559748428,
          0.17610062893081757,
          0,
          0.03144654088050314,
          0.0062893081761006275,
          0.037735849056603765
         ],
         "y": [
          -0.15,
          0.85,
          1.85,
          2.85,
          3.85,
          4.85,
          5.85,
          6.85
         ]
        },
        {
         "legendgroup": "safety",
         "legendgrouptitle": {
          "text": "safety"
         },
         "marker": {
          "color": "rgba(214, 39, 40, 0.8)",
          "size": 10,
          "symbol": "diamond"
         },
         "mode": "markers",
         "name": "ablation",
         "type": "scatter",
         "x": [
          0.37735849056603776,
          0.389937106918239,
          0.5849056603773585,
          0.3459119496855346,
          0.21383647798742134,
          0.33333333333333337,
          0.339622641509434,
          0.289308176100629
         ],
         "y": [
          0.15,
          1.15,
          2.15,
          3.15,
          4.15,
          5.15,
          6.15,
          7.15
         ]
        }
       ],
       "layout": {
        "font": {
         "size": 14
        },
        "height": 400,
        "margin": {
         "b": 20,
         "l": 20,
         "r": 20,
         "t": 40
        },
        "plot_bgcolor": "white",
        "scattergap": 0.75,
        "scattermode": "group",
        "template": {
         "data": {
          "bar": [
           {
            "error_x": {
             "color": "#2a3f5f"
            },
            "error_y": {
             "color": "#2a3f5f"
            },
            "marker": {
             "line": {
              "color": "#E5ECF6",
              "width": 0.5
             },
             "pattern": {
              "fillmode": "overlay",
              "size": 10,
              "solidity": 0.2
             }
            },
            "type": "bar"
           }
          ],
          "barpolar": [
           {
            "marker": {
             "line": {
              "color": "#E5ECF6",
              "width": 0.5
             },
             "pattern": {
              "fillmode": "overlay",
              "size": 10,
              "solidity": 0.2
             }
            },
            "type": "barpolar"
           }
          ],
          "carpet": [
           {
            "aaxis": {
             "endlinecolor": "#2a3f5f",
             "gridcolor": "white",
             "linecolor": "white",
             "minorgridcolor": "white",
             "startlinecolor": "#2a3f5f"
            },
            "baxis": {
             "endlinecolor": "#2a3f5f",
             "gridcolor": "white",
             "linecolor": "white",
             "minorgridcolor": "white",
             "startlinecolor": "#2a3f5f"
            },
            "type": "carpet"
           }
          ],
          "choropleth": [
           {
            "colorbar": {
             "outlinewidth": 0,
             "ticks": ""
            },
            "type": "choropleth"
           }
          ],
          "contour": [
           {
            "colorbar": {
             "outlinewidth": 0,
             "ticks": ""
            },
            "colorscale": [
             [
              0,
              "#0d0887"
             ],
             [
              0.1111111111111111,
              "#46039f"
             ],
             [
              0.2222222222222222,
              "#7201a8"
             ],
             [
              0.3333333333333333,
              "#9c179e"
             ],
             [
              0.4444444444444444,
              "#bd3786"
             ],
             [
              0.5555555555555556,
              "#d8576b"
             ],
             [
              0.6666666666666666,
              "#ed7953"
             ],
             [
              0.7777777777777778,
              "#fb9f3a"
             ],
             [
              0.8888888888888888,
              "#fdca26"
             ],
             [
              1,
              "#f0f921"
             ]
            ],
            "type": "contour"
           }
          ],
          "contourcarpet": [
           {
            "colorbar": {
             "outlinewidth": 0,
             "ticks": ""
            },
            "type": "contourcarpet"
           }
          ],
          "heatmap": [
           {
            "colorbar": {
             "outlinewidth": 0,
             "ticks": ""
            },
            "colorscale": [
             [
              0,
              "#0d0887"
             ],
             [
              0.1111111111111111,
              "#46039f"
             ],
             [
              0.2222222222222222,
              "#7201a8"
             ],
             [
              0.3333333333333333,
              "#9c179e"
             ],
             [
              0.4444444444444444,
              "#bd3786"
             ],
             [
              0.5555555555555556,
              "#d8576b"
             ],
             [
              0.6666666666666666,
              "#ed7953"
             ],
             [
              0.7777777777777778,
              "#fb9f3a"
             ],
             [
              0.8888888888888888,
              "#fdca26"
             ],
             [
              1,
              "#f0f921"
             ]
            ],
            "type": "heatmap"
           }
          ],
          "heatmapgl": [
           {
            "colorbar": {
             "outlinewidth": 0,
             "ticks": ""
            },
            "colorscale": [
             [
              0,
              "#0d0887"
             ],
             [
              0.1111111111111111,
              "#46039f"
             ],
             [
              0.2222222222222222,
              "#7201a8"
             ],
             [
              0.3333333333333333,
              "#9c179e"
             ],
             [
              0.4444444444444444,
              "#bd3786"
             ],
             [
              0.5555555555555556,
              "#d8576b"
             ],
             [
              0.6666666666666666,
              "#ed7953"
             ],
             [
              0.7777777777777778,
              "#fb9f3a"
             ],
             [
              0.8888888888888888,
              "#fdca26"
             ],
             [
              1,
              "#f0f921"
             ]
            ],
            "type": "heatmapgl"
           }
          ],
          "histogram": [
           {
            "marker": {
             "pattern": {
              "fillmode": "overlay",
              "size": 10,
              "solidity": 0.2
             }
            },
            "type": "histogram"
           }
          ],
          "histogram2d": [
           {
            "colorbar": {
             "outlinewidth": 0,
             "ticks": ""
            },
            "colorscale": [
             [
              0,
              "#0d0887"
             ],
             [
              0.1111111111111111,
              "#46039f"
             ],
             [
              0.2222222222222222,
              "#7201a8"
             ],
             [
              0.3333333333333333,
              "#9c179e"
             ],
             [
              0.4444444444444444,
              "#bd3786"
             ],
             [
              0.5555555555555556,
              "#d8576b"
             ],
             [
              0.6666666666666666,
              "#ed7953"
             ],
             [
              0.7777777777777778,
              "#fb9f3a"
             ],
             [
              0.8888888888888888,
              "#fdca26"
             ],
             [
              1,
              "#f0f921"
             ]
            ],
            "type": "histogram2d"
           }
          ],
          "histogram2dcontour": [
           {
            "colorbar": {
             "outlinewidth": 0,
             "ticks": ""
            },
            "colorscale": [
             [
              0,
              "#0d0887"
             ],
             [
              0.1111111111111111,
              "#46039f"
             ],
             [
              0.2222222222222222,
              "#7201a8"
             ],
             [
              0.3333333333333333,
              "#9c179e"
             ],
             [
              0.4444444444444444,
              "#bd3786"
             ],
             [
              0.5555555555555556,
              "#d8576b"
             ],
             [
              0.6666666666666666,
              "#ed7953"
             ],
             [
              0.7777777777777778,
              "#fb9f3a"
             ],
             [
              0.8888888888888888,
              "#fdca26"
             ],
             [
              1,
              "#f0f921"
             ]
            ],
            "type": "histogram2dcontour"
           }
          ],
          "mesh3d": [
           {
            "colorbar": {
             "outlinewidth": 0,
             "ticks": ""
            },
            "type": "mesh3d"
           }
          ],
          "parcoords": [
           {
            "line": {
             "colorbar": {
              "outlinewidth": 0,
              "ticks": ""
             }
            },
            "type": "parcoords"
           }
          ],
          "pie": [
           {
            "automargin": true,
            "type": "pie"
           }
          ],
          "scatter": [
           {
            "fillpattern": {
             "fillmode": "overlay",
             "size": 10,
             "solidity": 0.2
            },
            "type": "scatter"
           }
          ],
          "scatter3d": [
           {
            "line": {
             "colorbar": {
              "outlinewidth": 0,
              "ticks": ""
             }
            },
            "marker": {
             "colorbar": {
              "outlinewidth": 0,
              "ticks": ""
             }
            },
            "type": "scatter3d"
           }
          ],
          "scattercarpet": [
           {
            "marker": {
             "colorbar": {
              "outlinewidth": 0,
              "ticks": ""
             }
            },
            "type": "scattercarpet"
           }
          ],
          "scattergeo": [
           {
            "marker": {
             "colorbar": {
              "outlinewidth": 0,
              "ticks": ""
             }
            },
            "type": "scattergeo"
           }
          ],
          "scattergl": [
           {
            "marker": {
             "colorbar": {
              "outlinewidth": 0,
              "ticks": ""
             }
            },
            "type": "scattergl"
           }
          ],
          "scattermapbox": [
           {
            "marker": {
             "colorbar": {
              "outlinewidth": 0,
              "ticks": ""
             }
            },
            "type": "scattermapbox"
           }
          ],
          "scatterpolar": [
           {
            "marker": {
             "colorbar": {
              "outlinewidth": 0,
              "ticks": ""
             }
            },
            "type": "scatterpolar"
           }
          ],
          "scatterpolargl": [
           {
            "marker": {
             "colorbar": {
              "outlinewidth": 0,
              "ticks": ""
             }
            },
            "type": "scatterpolargl"
           }
          ],
          "scatterternary": [
           {
            "marker": {
             "colorbar": {
              "outlinewidth": 0,
              "ticks": ""
             }
            },
            "type": "scatterternary"
           }
          ],
          "surface": [
           {
            "colorbar": {
             "outlinewidth": 0,
             "ticks": ""
            },
            "colorscale": [
             [
              0,
              "#0d0887"
             ],
             [
              0.1111111111111111,
              "#46039f"
             ],
             [
              0.2222222222222222,
              "#7201a8"
             ],
             [
              0.3333333333333333,
              "#9c179e"
             ],
             [
              0.4444444444444444,
              "#bd3786"
             ],
             [
              0.5555555555555556,
              "#d8576b"
             ],
             [
              0.6666666666666666,
              "#ed7953"
             ],
             [
              0.7777777777777778,
              "#fb9f3a"
             ],
             [
              0.8888888888888888,
              "#fdca26"
             ],
             [
              1,
              "#f0f921"
             ]
            ],
            "type": "surface"
           }
          ],
          "table": [
           {
            "cells": {
             "fill": {
              "color": "#EBF0F8"
             },
             "line": {
              "color": "white"
             }
            },
            "header": {
             "fill": {
              "color": "#C8D4E3"
             },
             "line": {
              "color": "white"
             }
            },
            "type": "table"
           }
          ]
         },
         "layout": {
          "annotationdefaults": {
           "arrowcolor": "#2a3f5f",
           "arrowhead": 0,
           "arrowwidth": 1
          },
          "autotypenumbers": "strict",
          "coloraxis": {
           "colorbar": {
            "outlinewidth": 0,
            "ticks": ""
           }
          },
          "colorscale": {
           "diverging": [
            [
             0,
             "#8e0152"
            ],
            [
             0.1,
             "#c51b7d"
            ],
            [
             0.2,
             "#de77ae"
            ],
            [
             0.3,
             "#f1b6da"
            ],
            [
             0.4,
             "#fde0ef"
            ],
            [
             0.5,
             "#f7f7f7"
            ],
            [
             0.6,
             "#e6f5d0"
            ],
            [
             0.7,
             "#b8e186"
            ],
            [
             0.8,
             "#7fbc41"
            ],
            [
             0.9,
             "#4d9221"
            ],
            [
             1,
             "#276419"
            ]
           ],
           "sequential": [
            [
             0,
             "#0d0887"
            ],
            [
             0.1111111111111111,
             "#46039f"
            ],
            [
             0.2222222222222222,
             "#7201a8"
            ],
            [
             0.3333333333333333,
             "#9c179e"
            ],
            [
             0.4444444444444444,
             "#bd3786"
            ],
            [
             0.5555555555555556,
             "#d8576b"
            ],
            [
             0.6666666666666666,
             "#ed7953"
            ],
            [
             0.7777777777777778,
             "#fb9f3a"
            ],
            [
             0.8888888888888888,
             "#fdca26"
            ],
            [
             1,
             "#f0f921"
            ]
           ],
           "sequentialminus": [
            [
             0,
             "#0d0887"
            ],
            [
             0.1111111111111111,
             "#46039f"
            ],
            [
             0.2222222222222222,
             "#7201a8"
            ],
            [
             0.3333333333333333,
             "#9c179e"
            ],
            [
             0.4444444444444444,
             "#bd3786"
            ],
            [
             0.5555555555555556,
             "#d8576b"
            ],
            [
             0.6666666666666666,
             "#ed7953"
            ],
            [
             0.7777777777777778,
             "#fb9f3a"
            ],
            [
             0.8888888888888888,
             "#fdca26"
            ],
            [
             1,
             "#f0f921"
            ]
           ]
          },
          "colorway": [
           "#636efa",
           "#EF553B",
           "#00cc96",
           "#ab63fa",
           "#FFA15A",
           "#19d3f3",
           "#FF6692",
           "#B6E880",
           "#FF97FF",
           "#FECB52"
          ],
          "font": {
           "color": "#2a3f5f"
          },
          "geo": {
           "bgcolor": "white",
           "lakecolor": "white",
           "landcolor": "#E5ECF6",
           "showlakes": true,
           "showland": true,
           "subunitcolor": "white"
          },
          "hoverlabel": {
           "align": "left"
          },
          "hovermode": "closest",
          "mapbox": {
           "style": "light"
          },
          "paper_bgcolor": "white",
          "plot_bgcolor": "#E5ECF6",
          "polar": {
           "angularaxis": {
            "gridcolor": "white",
            "linecolor": "white",
            "ticks": ""
           },
           "bgcolor": "#E5ECF6",
           "radialaxis": {
            "gridcolor": "white",
            "linecolor": "white",
            "ticks": ""
           }
          },
          "scene": {
           "xaxis": {
            "backgroundcolor": "#E5ECF6",
            "gridcolor": "white",
            "gridwidth": 2,
            "linecolor": "white",
            "showbackground": true,
            "ticks": "",
            "zerolinecolor": "white"
           },
           "yaxis": {
            "backgroundcolor": "#E5ECF6",
            "gridcolor": "white",
            "gridwidth": 2,
            "linecolor": "white",
            "showbackground": true,
            "ticks": "",
            "zerolinecolor": "white"
           },
           "zaxis": {
            "backgroundcolor": "#E5ECF6",
            "gridcolor": "white",
            "gridwidth": 2,
            "linecolor": "white",
            "showbackground": true,
            "ticks": "",
            "zerolinecolor": "white"
           }
          },
          "shapedefaults": {
           "line": {
            "color": "#2a3f5f"
           }
          },
          "ternary": {
           "aaxis": {
            "gridcolor": "white",
            "linecolor": "white",
            "ticks": ""
           },
           "baxis": {
            "gridcolor": "white",
            "linecolor": "white",
            "ticks": ""
           },
           "bgcolor": "#E5ECF6",
           "caxis": {
            "gridcolor": "white",
            "linecolor": "white",
            "ticks": ""
           }
          },
          "title": {
           "x": 0.05
          },
          "xaxis": {
           "automargin": true,
           "gridcolor": "white",
           "linecolor": "white",
           "ticks": "",
           "title": {
            "standoff": 15
           },
           "zerolinecolor": "white",
           "zerolinewidth": 2
          },
          "yaxis": {
           "automargin": true,
           "gridcolor": "white",
           "linecolor": "white",
           "ticks": "",
           "title": {
            "standoff": 15
           },
           "zerolinecolor": "white",
           "zerolinewidth": 2
          }
         }
        },
        "title": {
         "font": {
          "size": 18
         },
         "text": "HarmBench",
         "x": 0.45
        },
        "width": 650,
        "xaxis": {
         "gridcolor": "darkgrey",
         "linecolor": "darkgrey",
         "linewidth": 1,
         "mirror": true,
         "range": [
          -0.05,
          1.05
         ],
         "showgrid": true,
         "showline": true,
         "tickfont": {
          "size": 13
         },
         "title": {
          "font": {
           "size": 15
          },
          "standoff": 2,
          "text": "Refusal/Safe %"
         },
         "zeroline": true,
         "zerolinecolor": "darkgrey"
        },
        "yaxis": {
         "gridcolor": "darkgrey",
         "linecolor": "darkgrey",
         "linewidth": 1,
         "mirror": true,
         "showgrid": false,
         "showline": true,
         "tickfont": {
          "size": 13.5
         },
         "ticktext": [
          "Gemma 2B",
          "Gemma 7B",
          "Llama2 13B",
          "Llama2 7B",
          "Llama3 8B",
          "Qwen 1.8B",
          "Qwen 7B",
          "Yi 6B"
         ],
         "tickvals": [
          0,
          1,
          2,
          3,
          4,
          5,
          6,
          7
         ],
         "title": {
          "font": {
           "size": 15
          }
         }
        }
       }
      }
     },
     "metadata": {},
     "output_type": "display_data"
    },
    {
     "data": {
      "application/vnd.plotly.v1+json": {
       "config": {
        "plotlyServerURL": "https://plot.ly"
       },
       "data": [
        {
         "marker": {
          "angleref": "previous",
          "color": "grey",
          "size": 10,
          "standoff": 5,
          "symbol": "arrow"
         },
         "mode": "markers+lines",
         "showlegend": false,
         "type": "scatter",
         "x": [
          0.91,
          0.99
         ],
         "y": [
          -0.15,
          -0.15
         ]
        },
        {
         "marker": {
          "angleref": "previous",
          "color": "grey",
          "size": 10,
          "standoff": 5,
          "symbol": "arrow"
         },
         "mode": "markers+lines",
         "showlegend": false,
         "type": "scatter",
         "x": [
          0.91,
          0.020000000000000018
         ],
         "y": [
          -0.15,
          -0.15
         ]
        },
        {
         "marker": {
          "angleref": "previous",
          "color": "grey",
          "size": 10,
          "standoff": 5,
          "symbol": "arrow"
         },
         "mode": "markers+lines",
         "showlegend": false,
         "type": "scatter",
         "x": [
          0.87,
          1
         ],
         "y": [
          0.85,
          0.85
         ]
        },
        {
         "marker": {
          "angleref": "previous",
          "color": "grey",
          "size": 10,
          "standoff": 5,
          "symbol": "arrow"
         },
         "mode": "markers+lines",
         "showlegend": false,
         "type": "scatter",
         "x": [
          0.87,
          0.12
         ],
         "y": [
          0.85,
          0.85
         ]
        },
        {
         "marker": {
          "angleref": "previous",
          "color": "grey",
          "size": 10,
          "standoff": 5,
          "symbol": "arrow"
         },
         "mode": "markers+lines",
         "showlegend": false,
         "type": "scatter",
         "x": [
          0.97,
          1
         ],
         "y": [
          1.85,
          1.85
         ]
        },
        {
         "marker": {
          "angleref": "previous",
          "color": "grey",
          "size": 10,
          "standoff": 5,
          "symbol": "arrow"
         },
         "mode": "markers+lines",
         "showlegend": false,
         "type": "scatter",
         "x": [
          0.97,
          0.49
         ],
         "y": [
          1.85,
          1.85
         ]
        },
        {
         "marker": {
          "angleref": "previous",
          "color": "grey",
          "size": 10,
          "standoff": 5,
          "symbol": "arrow"
         },
         "mode": "markers+lines",
         "showlegend": false,
         "type": "scatter",
         "x": [
          0.96,
          1
         ],
         "y": [
          2.85,
          2.85
         ]
        },
        {
         "marker": {
          "angleref": "previous",
          "color": "grey",
          "size": 10,
          "standoff": 5,
          "symbol": "arrow"
         },
         "mode": "markers+lines",
         "showlegend": false,
         "type": "scatter",
         "x": [
          0.96,
          0.16000000000000003
         ],
         "y": [
          2.85,
          2.85
         ]
        },
        {
         "marker": {
          "angleref": "previous",
          "color": "grey",
          "size": 10,
          "standoff": 5,
          "symbol": "arrow"
         },
         "mode": "markers+lines",
         "showlegend": false,
         "type": "scatter",
         "x": [
          0.94,
          1
         ],
         "y": [
          3.85,
          3.85
         ]
        },
        {
         "marker": {
          "angleref": "previous",
          "color": "grey",
          "size": 10,
          "standoff": 5,
          "symbol": "arrow"
         },
         "mode": "markers+lines",
         "showlegend": false,
         "type": "scatter",
         "x": [
          0.94,
          0
         ],
         "y": [
          3.85,
          3.85
         ]
        },
        {
         "marker": {
          "angleref": "previous",
          "color": "grey",
          "size": 10,
          "standoff": 5,
          "symbol": "arrow"
         },
         "mode": "markers+lines",
         "showlegend": false,
         "type": "scatter",
         "x": [
          0.69,
          1
         ],
         "y": [
          4.85,
          4.85
         ]
        },
        {
         "marker": {
          "angleref": "previous",
          "color": "grey",
          "size": 10,
          "standoff": 5,
          "symbol": "arrow"
         },
         "mode": "markers+lines",
         "showlegend": false,
         "type": "scatter",
         "x": [
          0.69,
          0.020000000000000018
         ],
         "y": [
          4.85,
          4.85
         ]
        },
        {
         "marker": {
          "angleref": "previous",
          "color": "grey",
          "size": 10,
          "standoff": 5,
          "symbol": "arrow"
         },
         "mode": "markers+lines",
         "showlegend": false,
         "type": "scatter",
         "x": [
          0.92,
          1
         ],
         "y": [
          5.85,
          5.85
         ]
        },
        {
         "marker": {
          "angleref": "previous",
          "color": "grey",
          "size": 10,
          "standoff": 5,
          "symbol": "arrow"
         },
         "mode": "markers+lines",
         "showlegend": false,
         "type": "scatter",
         "x": [
          0.92,
          0.010000000000000009
         ],
         "y": [
          5.85,
          5.85
         ]
        },
        {
         "marker": {
          "angleref": "previous",
          "color": "grey",
          "size": 10,
          "standoff": 5,
          "symbol": "arrow"
         },
         "mode": "markers+lines",
         "showlegend": false,
         "type": "scatter",
         "x": [
          0.62,
          1
         ],
         "y": [
          6.85,
          6.85
         ]
        },
        {
         "marker": {
          "angleref": "previous",
          "color": "grey",
          "size": 10,
          "standoff": 5,
          "symbol": "arrow"
         },
         "mode": "markers+lines",
         "showlegend": false,
         "type": "scatter",
         "x": [
          0.62,
          0.020000000000000018
         ],
         "y": [
          6.85,
          6.85
         ]
        },
        {
         "marker": {
          "angleref": "previous",
          "color": "grey",
          "size": 10,
          "standoff": 5,
          "symbol": "arrow"
         },
         "mode": "markers+lines",
         "showlegend": false,
         "type": "scatter",
         "x": [
          0.95,
          1
         ],
         "y": [
          0.15,
          0.15
         ]
        },
        {
         "marker": {
          "angleref": "previous",
          "color": "grey",
          "size": 10,
          "standoff": 5,
          "symbol": "arrow"
         },
         "mode": "markers+lines",
         "showlegend": false,
         "type": "scatter",
         "x": [
          0.95,
          0.33999999999999997
         ],
         "y": [
          0.15,
          0.15
         ]
        },
        {
         "marker": {
          "angleref": "previous",
          "color": "grey",
          "size": 10,
          "standoff": 5,
          "symbol": "arrow"
         },
         "mode": "markers+lines",
         "showlegend": false,
         "type": "scatter",
         "x": [
          0.92,
          1
         ],
         "y": [
          1.15,
          1.15
         ]
        },
        {
         "marker": {
          "angleref": "previous",
          "color": "grey",
          "size": 10,
          "standoff": 5,
          "symbol": "arrow"
         },
         "mode": "markers+lines",
         "showlegend": false,
         "type": "scatter",
         "x": [
          0.92,
          0.31999999999999995
         ],
         "y": [
          1.15,
          1.15
         ]
        },
        {
         "marker": {
          "angleref": "previous",
          "color": "grey",
          "size": 10,
          "standoff": 5,
          "symbol": "arrow"
         },
         "mode": "markers+lines",
         "showlegend": false,
         "type": "scatter",
         "x": [
          0.97,
          1
         ],
         "y": [
          2.15,
          2.15
         ]
        },
        {
         "marker": {
          "angleref": "previous",
          "color": "grey",
          "size": 10,
          "standoff": 5,
          "symbol": "arrow"
         },
         "mode": "markers+lines",
         "showlegend": false,
         "type": "scatter",
         "x": [
          0.97,
          0.65
         ],
         "y": [
          2.15,
          2.15
         ]
        },
        {
         "marker": {
          "angleref": "previous",
          "color": "grey",
          "size": 10,
          "standoff": 5,
          "symbol": "arrow"
         },
         "mode": "markers+lines",
         "showlegend": false,
         "type": "scatter",
         "x": [
          0.98,
          1
         ],
         "y": [
          3.15,
          3.15
         ]
        },
        {
         "marker": {
          "angleref": "previous",
          "color": "grey",
          "size": 10,
          "standoff": 5,
          "symbol": "arrow"
         },
         "mode": "markers+lines",
         "showlegend": false,
         "type": "scatter",
         "x": [
          0.98,
          0.30000000000000004
         ],
         "y": [
          3.15,
          3.15
         ]
        },
        {
         "marker": {
          "angleref": "previous",
          "color": "grey",
          "size": 10,
          "standoff": 5,
          "symbol": "arrow"
         },
         "mode": "markers+lines",
         "showlegend": false,
         "type": "scatter",
         "x": [
          0.97,
          1
         ],
         "y": [
          4.15,
          4.15
         ]
        },
        {
         "marker": {
          "angleref": "previous",
          "color": "grey",
          "size": 10,
          "standoff": 5,
          "symbol": "arrow"
         },
         "mode": "markers+lines",
         "showlegend": false,
         "type": "scatter",
         "x": [
          0.97,
          0.19999999999999996
         ],
         "y": [
          4.15,
          4.15
         ]
        },
        {
         "marker": {
          "angleref": "previous",
          "color": "grey",
          "size": 10,
          "standoff": 5,
          "symbol": "arrow"
         },
         "mode": "markers+lines",
         "showlegend": false,
         "type": "scatter",
         "x": [
          0.89,
          1
         ],
         "y": [
          5.15,
          5.15
         ]
        },
        {
         "marker": {
          "angleref": "previous",
          "color": "grey",
          "size": 10,
          "standoff": 5,
          "symbol": "arrow"
         },
         "mode": "markers+lines",
         "showlegend": false,
         "type": "scatter",
         "x": [
          0.89,
          0.32999999999999996
         ],
         "y": [
          5.15,
          5.15
         ]
        },
        {
         "marker": {
          "angleref": "previous",
          "color": "grey",
          "size": 10,
          "standoff": 5,
          "symbol": "arrow"
         },
         "mode": "markers+lines",
         "showlegend": false,
         "type": "scatter",
         "x": [
          0.95,
          1
         ],
         "y": [
          6.15,
          6.15
         ]
        },
        {
         "marker": {
          "angleref": "previous",
          "color": "grey",
          "size": 10,
          "standoff": 5,
          "symbol": "arrow"
         },
         "mode": "markers+lines",
         "showlegend": false,
         "type": "scatter",
         "x": [
          0.95,
          0.32999999999999996
         ],
         "y": [
          6.15,
          6.15
         ]
        },
        {
         "marker": {
          "angleref": "previous",
          "color": "grey",
          "size": 10,
          "standoff": 5,
          "symbol": "arrow"
         },
         "mode": "markers+lines",
         "showlegend": false,
         "type": "scatter",
         "x": [
          0.77,
          1
         ],
         "y": [
          7.15,
          7.15
         ]
        },
        {
         "marker": {
          "angleref": "previous",
          "color": "grey",
          "size": 10,
          "standoff": 5,
          "symbol": "arrow"
         },
         "mode": "markers+lines",
         "showlegend": false,
         "type": "scatter",
         "x": [
          0.77,
          0.27
         ],
         "y": [
          7.15,
          7.15
         ]
        },
        {
         "legendgroup": "refusal",
         "legendgrouptitle": {
          "text": "refusal"
         },
         "marker": {
          "color": "rgba(31, 119, 180, 0.8)",
          "size": 10,
          "symbol": "circle"
         },
         "mode": "markers",
         "name": "baseline",
         "type": "scatter",
         "x": [
          0.91,
          0.87,
          0.97,
          0.96,
          0.94,
          0.69,
          0.92,
          0.62
         ],
         "y": [
          -0.15,
          0.85,
          1.85,
          2.85,
          3.85,
          4.85,
          5.85,
          6.85
         ]
        },
        {
         "legendgroup": "safety",
         "legendgrouptitle": {
          "text": "safety"
         },
         "marker": {
          "color": "rgba(31, 119, 180, 0.8)",
          "size": 10,
          "symbol": "diamond"
         },
         "mode": "markers",
         "name": "baseline",
         "type": "scatter",
         "x": [
          0.95,
          0.92,
          0.97,
          0.98,
          0.97,
          0.89,
          0.95,
          0.77
         ],
         "y": [
          0.15,
          1.15,
          2.15,
          3.15,
          4.15,
          5.15,
          6.15,
          7.15
         ]
        },
        {
         "legendgroup": "refusal",
         "legendgrouptitle": {
          "text": "refusal"
         },
         "marker": {
          "color": "rgba(44, 160, 44, 0.8)",
          "size": 10,
          "symbol": "circle"
         },
         "mode": "markers",
         "name": "actadd",
         "type": "scatter",
         "x": [
          0.99,
          1,
          1,
          1,
          1,
          1,
          1,
          1
         ],
         "y": [
          -0.15,
          0.85,
          1.85,
          2.85,
          3.85,
          4.85,
          5.85,
          6.85
         ]
        },
        {
         "legendgroup": "safety",
         "legendgrouptitle": {
          "text": "safety"
         },
         "marker": {
          "color": "rgba(44, 160, 44, 0.8)",
          "size": 10,
          "symbol": "diamond"
         },
         "mode": "markers",
         "name": "actadd",
         "type": "scatter",
         "x": [
          1,
          1,
          1,
          1,
          1,
          1,
          1,
          1
         ],
         "y": [
          0.15,
          1.15,
          2.15,
          3.15,
          4.15,
          5.15,
          6.15,
          7.15
         ]
        },
        {
         "legendgroup": "refusal",
         "legendgrouptitle": {
          "text": "refusal"
         },
         "marker": {
          "color": "rgba(214, 39, 40, 0.8)",
          "size": 10,
          "symbol": "circle"
         },
         "mode": "markers",
         "name": "ablation",
         "type": "scatter",
         "x": [
          0.020000000000000018,
          0.12,
          0.49,
          0.16000000000000003,
          0,
          0.020000000000000018,
          0.010000000000000009,
          0.020000000000000018
         ],
         "y": [
          -0.15,
          0.85,
          1.85,
          2.85,
          3.85,
          4.85,
          5.85,
          6.85
         ]
        },
        {
         "legendgroup": "safety",
         "legendgrouptitle": {
          "text": "safety"
         },
         "marker": {
          "color": "rgba(214, 39, 40, 0.8)",
          "size": 10,
          "symbol": "diamond"
         },
         "mode": "markers",
         "name": "ablation",
         "type": "scatter",
         "x": [
          0.33999999999999997,
          0.31999999999999995,
          0.65,
          0.30000000000000004,
          0.19999999999999996,
          0.32999999999999996,
          0.32999999999999996,
          0.27
         ],
         "y": [
          0.15,
          1.15,
          2.15,
          3.15,
          4.15,
          5.15,
          6.15,
          7.15
         ]
        }
       ],
       "layout": {
        "font": {
         "size": 14
        },
        "height": 400,
        "margin": {
         "b": 20,
         "l": 20,
         "r": 20,
         "t": 40
        },
        "plot_bgcolor": "white",
        "scattergap": 0.75,
        "scattermode": "group",
        "template": {
         "data": {
          "bar": [
           {
            "error_x": {
             "color": "#2a3f5f"
            },
            "error_y": {
             "color": "#2a3f5f"
            },
            "marker": {
             "line": {
              "color": "#E5ECF6",
              "width": 0.5
             },
             "pattern": {
              "fillmode": "overlay",
              "size": 10,
              "solidity": 0.2
             }
            },
            "type": "bar"
           }
          ],
          "barpolar": [
           {
            "marker": {
             "line": {
              "color": "#E5ECF6",
              "width": 0.5
             },
             "pattern": {
              "fillmode": "overlay",
              "size": 10,
              "solidity": 0.2
             }
            },
            "type": "barpolar"
           }
          ],
          "carpet": [
           {
            "aaxis": {
             "endlinecolor": "#2a3f5f",
             "gridcolor": "white",
             "linecolor": "white",
             "minorgridcolor": "white",
             "startlinecolor": "#2a3f5f"
            },
            "baxis": {
             "endlinecolor": "#2a3f5f",
             "gridcolor": "white",
             "linecolor": "white",
             "minorgridcolor": "white",
             "startlinecolor": "#2a3f5f"
            },
            "type": "carpet"
           }
          ],
          "choropleth": [
           {
            "colorbar": {
             "outlinewidth": 0,
             "ticks": ""
            },
            "type": "choropleth"
           }
          ],
          "contour": [
           {
            "colorbar": {
             "outlinewidth": 0,
             "ticks": ""
            },
            "colorscale": [
             [
              0,
              "#0d0887"
             ],
             [
              0.1111111111111111,
              "#46039f"
             ],
             [
              0.2222222222222222,
              "#7201a8"
             ],
             [
              0.3333333333333333,
              "#9c179e"
             ],
             [
              0.4444444444444444,
              "#bd3786"
             ],
             [
              0.5555555555555556,
              "#d8576b"
             ],
             [
              0.6666666666666666,
              "#ed7953"
             ],
             [
              0.7777777777777778,
              "#fb9f3a"
             ],
             [
              0.8888888888888888,
              "#fdca26"
             ],
             [
              1,
              "#f0f921"
             ]
            ],
            "type": "contour"
           }
          ],
          "contourcarpet": [
           {
            "colorbar": {
             "outlinewidth": 0,
             "ticks": ""
            },
            "type": "contourcarpet"
           }
          ],
          "heatmap": [
           {
            "colorbar": {
             "outlinewidth": 0,
             "ticks": ""
            },
            "colorscale": [
             [
              0,
              "#0d0887"
             ],
             [
              0.1111111111111111,
              "#46039f"
             ],
             [
              0.2222222222222222,
              "#7201a8"
             ],
             [
              0.3333333333333333,
              "#9c179e"
             ],
             [
              0.4444444444444444,
              "#bd3786"
             ],
             [
              0.5555555555555556,
              "#d8576b"
             ],
             [
              0.6666666666666666,
              "#ed7953"
             ],
             [
              0.7777777777777778,
              "#fb9f3a"
             ],
             [
              0.8888888888888888,
              "#fdca26"
             ],
             [
              1,
              "#f0f921"
             ]
            ],
            "type": "heatmap"
           }
          ],
          "heatmapgl": [
           {
            "colorbar": {
             "outlinewidth": 0,
             "ticks": ""
            },
            "colorscale": [
             [
              0,
              "#0d0887"
             ],
             [
              0.1111111111111111,
              "#46039f"
             ],
             [
              0.2222222222222222,
              "#7201a8"
             ],
             [
              0.3333333333333333,
              "#9c179e"
             ],
             [
              0.4444444444444444,
              "#bd3786"
             ],
             [
              0.5555555555555556,
              "#d8576b"
             ],
             [
              0.6666666666666666,
              "#ed7953"
             ],
             [
              0.7777777777777778,
              "#fb9f3a"
             ],
             [
              0.8888888888888888,
              "#fdca26"
             ],
             [
              1,
              "#f0f921"
             ]
            ],
            "type": "heatmapgl"
           }
          ],
          "histogram": [
           {
            "marker": {
             "pattern": {
              "fillmode": "overlay",
              "size": 10,
              "solidity": 0.2
             }
            },
            "type": "histogram"
           }
          ],
          "histogram2d": [
           {
            "colorbar": {
             "outlinewidth": 0,
             "ticks": ""
            },
            "colorscale": [
             [
              0,
              "#0d0887"
             ],
             [
              0.1111111111111111,
              "#46039f"
             ],
             [
              0.2222222222222222,
              "#7201a8"
             ],
             [
              0.3333333333333333,
              "#9c179e"
             ],
             [
              0.4444444444444444,
              "#bd3786"
             ],
             [
              0.5555555555555556,
              "#d8576b"
             ],
             [
              0.6666666666666666,
              "#ed7953"
             ],
             [
              0.7777777777777778,
              "#fb9f3a"
             ],
             [
              0.8888888888888888,
              "#fdca26"
             ],
             [
              1,
              "#f0f921"
             ]
            ],
            "type": "histogram2d"
           }
          ],
          "histogram2dcontour": [
           {
            "colorbar": {
             "outlinewidth": 0,
             "ticks": ""
            },
            "colorscale": [
             [
              0,
              "#0d0887"
             ],
             [
              0.1111111111111111,
              "#46039f"
             ],
             [
              0.2222222222222222,
              "#7201a8"
             ],
             [
              0.3333333333333333,
              "#9c179e"
             ],
             [
              0.4444444444444444,
              "#bd3786"
             ],
             [
              0.5555555555555556,
              "#d8576b"
             ],
             [
              0.6666666666666666,
              "#ed7953"
             ],
             [
              0.7777777777777778,
              "#fb9f3a"
             ],
             [
              0.8888888888888888,
              "#fdca26"
             ],
             [
              1,
              "#f0f921"
             ]
            ],
            "type": "histogram2dcontour"
           }
          ],
          "mesh3d": [
           {
            "colorbar": {
             "outlinewidth": 0,
             "ticks": ""
            },
            "type": "mesh3d"
           }
          ],
          "parcoords": [
           {
            "line": {
             "colorbar": {
              "outlinewidth": 0,
              "ticks": ""
             }
            },
            "type": "parcoords"
           }
          ],
          "pie": [
           {
            "automargin": true,
            "type": "pie"
           }
          ],
          "scatter": [
           {
            "fillpattern": {
             "fillmode": "overlay",
             "size": 10,
             "solidity": 0.2
            },
            "type": "scatter"
           }
          ],
          "scatter3d": [
           {
            "line": {
             "colorbar": {
              "outlinewidth": 0,
              "ticks": ""
             }
            },
            "marker": {
             "colorbar": {
              "outlinewidth": 0,
              "ticks": ""
             }
            },
            "type": "scatter3d"
           }
          ],
          "scattercarpet": [
           {
            "marker": {
             "colorbar": {
              "outlinewidth": 0,
              "ticks": ""
             }
            },
            "type": "scattercarpet"
           }
          ],
          "scattergeo": [
           {
            "marker": {
             "colorbar": {
              "outlinewidth": 0,
              "ticks": ""
             }
            },
            "type": "scattergeo"
           }
          ],
          "scattergl": [
           {
            "marker": {
             "colorbar": {
              "outlinewidth": 0,
              "ticks": ""
             }
            },
            "type": "scattergl"
           }
          ],
          "scattermapbox": [
           {
            "marker": {
             "colorbar": {
              "outlinewidth": 0,
              "ticks": ""
             }
            },
            "type": "scattermapbox"
           }
          ],
          "scatterpolar": [
           {
            "marker": {
             "colorbar": {
              "outlinewidth": 0,
              "ticks": ""
             }
            },
            "type": "scatterpolar"
           }
          ],
          "scatterpolargl": [
           {
            "marker": {
             "colorbar": {
              "outlinewidth": 0,
              "ticks": ""
             }
            },
            "type": "scatterpolargl"
           }
          ],
          "scatterternary": [
           {
            "marker": {
             "colorbar": {
              "outlinewidth": 0,
              "ticks": ""
             }
            },
            "type": "scatterternary"
           }
          ],
          "surface": [
           {
            "colorbar": {
             "outlinewidth": 0,
             "ticks": ""
            },
            "colorscale": [
             [
              0,
              "#0d0887"
             ],
             [
              0.1111111111111111,
              "#46039f"
             ],
             [
              0.2222222222222222,
              "#7201a8"
             ],
             [
              0.3333333333333333,
              "#9c179e"
             ],
             [
              0.4444444444444444,
              "#bd3786"
             ],
             [
              0.5555555555555556,
              "#d8576b"
             ],
             [
              0.6666666666666666,
              "#ed7953"
             ],
             [
              0.7777777777777778,
              "#fb9f3a"
             ],
             [
              0.8888888888888888,
              "#fdca26"
             ],
             [
              1,
              "#f0f921"
             ]
            ],
            "type": "surface"
           }
          ],
          "table": [
           {
            "cells": {
             "fill": {
              "color": "#EBF0F8"
             },
             "line": {
              "color": "white"
             }
            },
            "header": {
             "fill": {
              "color": "#C8D4E3"
             },
             "line": {
              "color": "white"
             }
            },
            "type": "table"
           }
          ]
         },
         "layout": {
          "annotationdefaults": {
           "arrowcolor": "#2a3f5f",
           "arrowhead": 0,
           "arrowwidth": 1
          },
          "autotypenumbers": "strict",
          "coloraxis": {
           "colorbar": {
            "outlinewidth": 0,
            "ticks": ""
           }
          },
          "colorscale": {
           "diverging": [
            [
             0,
             "#8e0152"
            ],
            [
             0.1,
             "#c51b7d"
            ],
            [
             0.2,
             "#de77ae"
            ],
            [
             0.3,
             "#f1b6da"
            ],
            [
             0.4,
             "#fde0ef"
            ],
            [
             0.5,
             "#f7f7f7"
            ],
            [
             0.6,
             "#e6f5d0"
            ],
            [
             0.7,
             "#b8e186"
            ],
            [
             0.8,
             "#7fbc41"
            ],
            [
             0.9,
             "#4d9221"
            ],
            [
             1,
             "#276419"
            ]
           ],
           "sequential": [
            [
             0,
             "#0d0887"
            ],
            [
             0.1111111111111111,
             "#46039f"
            ],
            [
             0.2222222222222222,
             "#7201a8"
            ],
            [
             0.3333333333333333,
             "#9c179e"
            ],
            [
             0.4444444444444444,
             "#bd3786"
            ],
            [
             0.5555555555555556,
             "#d8576b"
            ],
            [
             0.6666666666666666,
             "#ed7953"
            ],
            [
             0.7777777777777778,
             "#fb9f3a"
            ],
            [
             0.8888888888888888,
             "#fdca26"
            ],
            [
             1,
             "#f0f921"
            ]
           ],
           "sequentialminus": [
            [
             0,
             "#0d0887"
            ],
            [
             0.1111111111111111,
             "#46039f"
            ],
            [
             0.2222222222222222,
             "#7201a8"
            ],
            [
             0.3333333333333333,
             "#9c179e"
            ],
            [
             0.4444444444444444,
             "#bd3786"
            ],
            [
             0.5555555555555556,
             "#d8576b"
            ],
            [
             0.6666666666666666,
             "#ed7953"
            ],
            [
             0.7777777777777778,
             "#fb9f3a"
            ],
            [
             0.8888888888888888,
             "#fdca26"
            ],
            [
             1,
             "#f0f921"
            ]
           ]
          },
          "colorway": [
           "#636efa",
           "#EF553B",
           "#00cc96",
           "#ab63fa",
           "#FFA15A",
           "#19d3f3",
           "#FF6692",
           "#B6E880",
           "#FF97FF",
           "#FECB52"
          ],
          "font": {
           "color": "#2a3f5f"
          },
          "geo": {
           "bgcolor": "white",
           "lakecolor": "white",
           "landcolor": "#E5ECF6",
           "showlakes": true,
           "showland": true,
           "subunitcolor": "white"
          },
          "hoverlabel": {
           "align": "left"
          },
          "hovermode": "closest",
          "mapbox": {
           "style": "light"
          },
          "paper_bgcolor": "white",
          "plot_bgcolor": "#E5ECF6",
          "polar": {
           "angularaxis": {
            "gridcolor": "white",
            "linecolor": "white",
            "ticks": ""
           },
           "bgcolor": "#E5ECF6",
           "radialaxis": {
            "gridcolor": "white",
            "linecolor": "white",
            "ticks": ""
           }
          },
          "scene": {
           "xaxis": {
            "backgroundcolor": "#E5ECF6",
            "gridcolor": "white",
            "gridwidth": 2,
            "linecolor": "white",
            "showbackground": true,
            "ticks": "",
            "zerolinecolor": "white"
           },
           "yaxis": {
            "backgroundcolor": "#E5ECF6",
            "gridcolor": "white",
            "gridwidth": 2,
            "linecolor": "white",
            "showbackground": true,
            "ticks": "",
            "zerolinecolor": "white"
           },
           "zaxis": {
            "backgroundcolor": "#E5ECF6",
            "gridcolor": "white",
            "gridwidth": 2,
            "linecolor": "white",
            "showbackground": true,
            "ticks": "",
            "zerolinecolor": "white"
           }
          },
          "shapedefaults": {
           "line": {
            "color": "#2a3f5f"
           }
          },
          "ternary": {
           "aaxis": {
            "gridcolor": "white",
            "linecolor": "white",
            "ticks": ""
           },
           "baxis": {
            "gridcolor": "white",
            "linecolor": "white",
            "ticks": ""
           },
           "bgcolor": "#E5ECF6",
           "caxis": {
            "gridcolor": "white",
            "linecolor": "white",
            "ticks": ""
           }
          },
          "title": {
           "x": 0.05
          },
          "xaxis": {
           "automargin": true,
           "gridcolor": "white",
           "linecolor": "white",
           "ticks": "",
           "title": {
            "standoff": 15
           },
           "zerolinecolor": "white",
           "zerolinewidth": 2
          },
          "yaxis": {
           "automargin": true,
           "gridcolor": "white",
           "linecolor": "white",
           "ticks": "",
           "title": {
            "standoff": 15
           },
           "zerolinecolor": "white",
           "zerolinewidth": 2
          }
         }
        },
        "title": {
         "font": {
          "size": 18
         },
         "text": "JailbreakBench",
         "x": 0.45
        },
        "width": 650,
        "xaxis": {
         "gridcolor": "darkgrey",
         "linecolor": "darkgrey",
         "linewidth": 1,
         "mirror": true,
         "range": [
          -0.05,
          1.05
         ],
         "showgrid": true,
         "showline": true,
         "tickfont": {
          "size": 13
         },
         "title": {
          "font": {
           "size": 15
          },
          "standoff": 2,
          "text": "Refusal/Safe %"
         },
         "zeroline": true,
         "zerolinecolor": "darkgrey"
        },
        "yaxis": {
         "gridcolor": "darkgrey",
         "linecolor": "darkgrey",
         "linewidth": 1,
         "mirror": true,
         "showgrid": false,
         "showline": true,
         "tickfont": {
          "size": 13.5
         },
         "ticktext": [
          "Gemma 2B",
          "Gemma 7B",
          "Llama2 13B",
          "Llama2 7B",
          "Llama3 8B",
          "Qwen 1.8B",
          "Qwen 7B",
          "Yi 6B"
         ],
         "tickvals": [
          0,
          1,
          2,
          3,
          4,
          5,
          6,
          7
         ],
         "title": {
          "font": {
           "size": 15
          }
         }
        }
       }
      }
     },
     "metadata": {},
     "output_type": "display_data"
    },
    {
     "data": {
      "application/vnd.plotly.v1+json": {
       "config": {
        "plotlyServerURL": "https://plot.ly"
       },
       "data": [
        {
         "marker": {
          "angleref": "previous",
          "color": "grey",
          "size": 10,
          "standoff": 5,
          "symbol": "arrow"
         },
         "mode": "markers+lines",
         "showlegend": false,
         "type": "scatter",
         "x": [
          0.020000000000000018,
          1
         ],
         "y": [
          -0.15,
          -0.15
         ]
        },
        {
         "marker": {
          "angleref": "previous",
          "color": "grey",
          "size": 10,
          "standoff": 5,
          "symbol": "arrow"
         },
         "mode": "markers+lines",
         "showlegend": false,
         "type": "scatter",
         "x": [
          0.020000000000000018,
          0.030000000000000027
         ],
         "y": [
          -0.15,
          -0.15
         ]
        },
        {
         "marker": {
          "angleref": "previous",
          "color": "grey",
          "size": 10,
          "standoff": 5,
          "symbol": "arrow"
         },
         "mode": "markers+lines",
         "showlegend": false,
         "type": "scatter",
         "x": [
          0.020000000000000018,
          1
         ],
         "y": [
          0.85,
          0.85
         ]
        },
        {
         "marker": {
          "angleref": "previous",
          "color": "grey",
          "size": 10,
          "standoff": 5,
          "symbol": "arrow"
         },
         "mode": "markers+lines",
         "showlegend": false,
         "type": "scatter",
         "x": [
          0.020000000000000018,
          0
         ],
         "y": [
          0.85,
          0.85
         ]
        },
        {
         "marker": {
          "angleref": "previous",
          "color": "grey",
          "size": 10,
          "standoff": 5,
          "symbol": "arrow"
         },
         "mode": "markers+lines",
         "showlegend": false,
         "type": "scatter",
         "x": [
          0.010000000000000009,
          1
         ],
         "y": [
          1.85,
          1.85
         ]
        },
        {
         "marker": {
          "angleref": "previous",
          "color": "grey",
          "size": 10,
          "standoff": 5,
          "symbol": "arrow"
         },
         "mode": "markers+lines",
         "showlegend": false,
         "type": "scatter",
         "x": [
          0.010000000000000009,
          0.010000000000000009
         ],
         "y": [
          1.85,
          1.85
         ]
        },
        {
         "marker": {
          "angleref": "previous",
          "color": "grey",
          "size": 10,
          "standoff": 5,
          "symbol": "arrow"
         },
         "mode": "markers+lines",
         "showlegend": false,
         "type": "scatter",
         "x": [
          0.030000000000000027,
          1
         ],
         "y": [
          2.85,
          2.85
         ]
        },
        {
         "marker": {
          "angleref": "previous",
          "color": "grey",
          "size": 10,
          "standoff": 5,
          "symbol": "arrow"
         },
         "mode": "markers+lines",
         "showlegend": false,
         "type": "scatter",
         "x": [
          0.030000000000000027,
          0.040000000000000036
         ],
         "y": [
          2.85,
          2.85
         ]
        },
        {
         "marker": {
          "angleref": "previous",
          "color": "grey",
          "size": 10,
          "standoff": 5,
          "symbol": "arrow"
         },
         "mode": "markers+lines",
         "showlegend": false,
         "type": "scatter",
         "x": [
          0.010000000000000009,
          1
         ],
         "y": [
          3.85,
          3.85
         ]
        },
        {
         "marker": {
          "angleref": "previous",
          "color": "grey",
          "size": 10,
          "standoff": 5,
          "symbol": "arrow"
         },
         "mode": "markers+lines",
         "showlegend": false,
         "type": "scatter",
         "x": [
          0.010000000000000009,
          0
         ],
         "y": [
          3.85,
          3.85
         ]
        },
        {
         "marker": {
          "angleref": "previous",
          "color": "grey",
          "size": 10,
          "standoff": 5,
          "symbol": "arrow"
         },
         "mode": "markers+lines",
         "showlegend": false,
         "type": "scatter",
         "x": [
          0.06999999999999995,
          1
         ],
         "y": [
          4.85,
          4.85
         ]
        },
        {
         "marker": {
          "angleref": "previous",
          "color": "grey",
          "size": 10,
          "standoff": 5,
          "symbol": "arrow"
         },
         "mode": "markers+lines",
         "showlegend": false,
         "type": "scatter",
         "x": [
          0.06999999999999995,
          0.040000000000000036
         ],
         "y": [
          4.85,
          4.85
         ]
        },
        {
         "marker": {
          "angleref": "previous",
          "color": "grey",
          "size": 10,
          "standoff": 5,
          "symbol": "arrow"
         },
         "mode": "markers+lines",
         "showlegend": false,
         "type": "scatter",
         "x": [
          0.06000000000000005,
          0.96
         ],
         "y": [
          5.85,
          5.85
         ]
        },
        {
         "marker": {
          "angleref": "previous",
          "color": "grey",
          "size": 10,
          "standoff": 5,
          "symbol": "arrow"
         },
         "mode": "markers+lines",
         "showlegend": false,
         "type": "scatter",
         "x": [
          0.06000000000000005,
          0.040000000000000036
         ],
         "y": [
          5.85,
          5.85
         ]
        },
        {
         "marker": {
          "angleref": "previous",
          "color": "grey",
          "size": 10,
          "standoff": 5,
          "symbol": "arrow"
         },
         "mode": "markers+lines",
         "showlegend": false,
         "type": "scatter",
         "x": [
          0.020000000000000018,
          0.91
         ],
         "y": [
          6.85,
          6.85
         ]
        },
        {
         "marker": {
          "angleref": "previous",
          "color": "grey",
          "size": 10,
          "standoff": 5,
          "symbol": "arrow"
         },
         "mode": "markers+lines",
         "showlegend": false,
         "type": "scatter",
         "x": [
          0.020000000000000018,
          0.010000000000000009
         ],
         "y": [
          6.85,
          6.85
         ]
        },
        {
         "marker": {
          "angleref": "previous",
          "color": "grey",
          "size": 10,
          "standoff": 5,
          "symbol": "arrow"
         },
         "mode": "markers+lines",
         "showlegend": false,
         "type": "scatter",
         "x": [
          1,
          1
         ],
         "y": [
          0.15,
          0.15
         ]
        },
        {
         "marker": {
          "angleref": "previous",
          "color": "grey",
          "size": 10,
          "standoff": 5,
          "symbol": "arrow"
         },
         "mode": "markers+lines",
         "showlegend": false,
         "type": "scatter",
         "x": [
          1,
          1
         ],
         "y": [
          0.15,
          0.15
         ]
        },
        {
         "marker": {
          "angleref": "previous",
          "color": "grey",
          "size": 10,
          "standoff": 5,
          "symbol": "arrow"
         },
         "mode": "markers+lines",
         "showlegend": false,
         "type": "scatter",
         "x": [
          1,
          0.98
         ],
         "y": [
          1.15,
          1.15
         ]
        },
        {
         "marker": {
          "angleref": "previous",
          "color": "grey",
          "size": 10,
          "standoff": 5,
          "symbol": "arrow"
         },
         "mode": "markers+lines",
         "showlegend": false,
         "type": "scatter",
         "x": [
          1,
          1
         ],
         "y": [
          1.15,
          1.15
         ]
        },
        {
         "marker": {
          "angleref": "previous",
          "color": "grey",
          "size": 10,
          "standoff": 5,
          "symbol": "arrow"
         },
         "mode": "markers+lines",
         "showlegend": false,
         "type": "scatter",
         "x": [
          1,
          1
         ],
         "y": [
          2.15,
          2.15
         ]
        },
        {
         "marker": {
          "angleref": "previous",
          "color": "grey",
          "size": 10,
          "standoff": 5,
          "symbol": "arrow"
         },
         "mode": "markers+lines",
         "showlegend": false,
         "type": "scatter",
         "x": [
          1,
          1
         ],
         "y": [
          2.15,
          2.15
         ]
        },
        {
         "marker": {
          "angleref": "previous",
          "color": "grey",
          "size": 10,
          "standoff": 5,
          "symbol": "arrow"
         },
         "mode": "markers+lines",
         "showlegend": false,
         "type": "scatter",
         "x": [
          1,
          1
         ],
         "y": [
          3.15,
          3.15
         ]
        },
        {
         "marker": {
          "angleref": "previous",
          "color": "grey",
          "size": 10,
          "standoff": 5,
          "symbol": "arrow"
         },
         "mode": "markers+lines",
         "showlegend": false,
         "type": "scatter",
         "x": [
          1,
          1
         ],
         "y": [
          3.15,
          3.15
         ]
        },
        {
         "marker": {
          "angleref": "previous",
          "color": "grey",
          "size": 10,
          "standoff": 5,
          "symbol": "arrow"
         },
         "mode": "markers+lines",
         "showlegend": false,
         "type": "scatter",
         "x": [
          1,
          1
         ],
         "y": [
          4.15,
          4.15
         ]
        },
        {
         "marker": {
          "angleref": "previous",
          "color": "grey",
          "size": 10,
          "standoff": 5,
          "symbol": "arrow"
         },
         "mode": "markers+lines",
         "showlegend": false,
         "type": "scatter",
         "x": [
          1,
          1
         ],
         "y": [
          4.15,
          4.15
         ]
        },
        {
         "marker": {
          "angleref": "previous",
          "color": "grey",
          "size": 10,
          "standoff": 5,
          "symbol": "arrow"
         },
         "mode": "markers+lines",
         "showlegend": false,
         "type": "scatter",
         "x": [
          1,
          1
         ],
         "y": [
          5.15,
          5.15
         ]
        },
        {
         "marker": {
          "angleref": "previous",
          "color": "grey",
          "size": 10,
          "standoff": 5,
          "symbol": "arrow"
         },
         "mode": "markers+lines",
         "showlegend": false,
         "type": "scatter",
         "x": [
          1,
          1
         ],
         "y": [
          5.15,
          5.15
         ]
        },
        {
         "marker": {
          "angleref": "previous",
          "color": "grey",
          "size": 10,
          "standoff": 5,
          "symbol": "arrow"
         },
         "mode": "markers+lines",
         "showlegend": false,
         "type": "scatter",
         "x": [
          1,
          1
         ],
         "y": [
          6.15,
          6.15
         ]
        },
        {
         "marker": {
          "angleref": "previous",
          "color": "grey",
          "size": 10,
          "standoff": 5,
          "symbol": "arrow"
         },
         "mode": "markers+lines",
         "showlegend": false,
         "type": "scatter",
         "x": [
          1,
          1
         ],
         "y": [
          6.15,
          6.15
         ]
        },
        {
         "marker": {
          "angleref": "previous",
          "color": "grey",
          "size": 10,
          "standoff": 5,
          "symbol": "arrow"
         },
         "mode": "markers+lines",
         "showlegend": false,
         "type": "scatter",
         "x": [
          1,
          1
         ],
         "y": [
          7.15,
          7.15
         ]
        },
        {
         "marker": {
          "angleref": "previous",
          "color": "grey",
          "size": 10,
          "standoff": 5,
          "symbol": "arrow"
         },
         "mode": "markers+lines",
         "showlegend": false,
         "type": "scatter",
         "x": [
          1,
          1
         ],
         "y": [
          7.15,
          7.15
         ]
        },
        {
         "legendgroup": "refusal",
         "legendgrouptitle": {
          "text": "refusal"
         },
         "marker": {
          "color": "rgba(31, 119, 180, 0.8)",
          "size": 10,
          "symbol": "circle"
         },
         "mode": "markers",
         "name": "baseline",
         "type": "scatter",
         "x": [
          0.020000000000000018,
          0.020000000000000018,
          0.010000000000000009,
          0.030000000000000027,
          0.010000000000000009,
          0.06999999999999995,
          0.06000000000000005,
          0.020000000000000018
         ],
         "y": [
          -0.15,
          0.85,
          1.85,
          2.85,
          3.85,
          4.85,
          5.85,
          6.85
         ]
        },
        {
         "legendgroup": "safety",
         "legendgrouptitle": {
          "text": "safety"
         },
         "marker": {
          "color": "rgba(31, 119, 180, 0.8)",
          "size": 10,
          "symbol": "diamond"
         },
         "mode": "markers",
         "name": "baseline",
         "type": "scatter",
         "x": [
          1,
          1,
          1,
          1,
          1,
          1,
          1,
          1
         ],
         "y": [
          0.15,
          1.15,
          2.15,
          3.15,
          4.15,
          5.15,
          6.15,
          7.15
         ]
        },
        {
         "legendgroup": "refusal",
         "legendgrouptitle": {
          "text": "refusal"
         },
         "marker": {
          "color": "rgba(44, 160, 44, 0.8)",
          "size": 10,
          "symbol": "circle"
         },
         "mode": "markers",
         "name": "actadd",
         "type": "scatter",
         "x": [
          1,
          1,
          1,
          1,
          1,
          1,
          0.96,
          0.91
         ],
         "y": [
          -0.15,
          0.85,
          1.85,
          2.85,
          3.85,
          4.85,
          5.85,
          6.85
         ]
        },
        {
         "legendgroup": "safety",
         "legendgrouptitle": {
          "text": "safety"
         },
         "marker": {
          "color": "rgba(44, 160, 44, 0.8)",
          "size": 10,
          "symbol": "diamond"
         },
         "mode": "markers",
         "name": "actadd",
         "type": "scatter",
         "x": [
          1,
          0.98,
          1,
          1,
          1,
          1,
          1,
          1
         ],
         "y": [
          0.15,
          1.15,
          2.15,
          3.15,
          4.15,
          5.15,
          6.15,
          7.15
         ]
        },
        {
         "legendgroup": "refusal",
         "legendgrouptitle": {
          "text": "refusal"
         },
         "marker": {
          "color": "rgba(214, 39, 40, 0.8)",
          "size": 10,
          "symbol": "circle"
         },
         "mode": "markers",
         "name": "ablation",
         "type": "scatter",
         "x": [
          0.030000000000000027,
          0,
          0.010000000000000009,
          0.040000000000000036,
          0,
          0.040000000000000036,
          0.040000000000000036,
          0.010000000000000009
         ],
         "y": [
          -0.15,
          0.85,
          1.85,
          2.85,
          3.85,
          4.85,
          5.85,
          6.85
         ]
        },
        {
         "legendgroup": "safety",
         "legendgrouptitle": {
          "text": "safety"
         },
         "marker": {
          "color": "rgba(214, 39, 40, 0.8)",
          "size": 10,
          "symbol": "diamond"
         },
         "mode": "markers",
         "name": "ablation",
         "type": "scatter",
         "x": [
          1,
          1,
          1,
          1,
          1,
          1,
          1,
          1
         ],
         "y": [
          0.15,
          1.15,
          2.15,
          3.15,
          4.15,
          5.15,
          6.15,
          7.15
         ]
        }
       ],
       "layout": {
        "font": {
         "size": 14
        },
        "height": 400,
        "margin": {
         "b": 20,
         "l": 20,
         "r": 20,
         "t": 40
        },
        "plot_bgcolor": "white",
        "scattergap": 0.75,
        "scattermode": "group",
        "template": {
         "data": {
          "bar": [
           {
            "error_x": {
             "color": "#2a3f5f"
            },
            "error_y": {
             "color": "#2a3f5f"
            },
            "marker": {
             "line": {
              "color": "#E5ECF6",
              "width": 0.5
             },
             "pattern": {
              "fillmode": "overlay",
              "size": 10,
              "solidity": 0.2
             }
            },
            "type": "bar"
           }
          ],
          "barpolar": [
           {
            "marker": {
             "line": {
              "color": "#E5ECF6",
              "width": 0.5
             },
             "pattern": {
              "fillmode": "overlay",
              "size": 10,
              "solidity": 0.2
             }
            },
            "type": "barpolar"
           }
          ],
          "carpet": [
           {
            "aaxis": {
             "endlinecolor": "#2a3f5f",
             "gridcolor": "white",
             "linecolor": "white",
             "minorgridcolor": "white",
             "startlinecolor": "#2a3f5f"
            },
            "baxis": {
             "endlinecolor": "#2a3f5f",
             "gridcolor": "white",
             "linecolor": "white",
             "minorgridcolor": "white",
             "startlinecolor": "#2a3f5f"
            },
            "type": "carpet"
           }
          ],
          "choropleth": [
           {
            "colorbar": {
             "outlinewidth": 0,
             "ticks": ""
            },
            "type": "choropleth"
           }
          ],
          "contour": [
           {
            "colorbar": {
             "outlinewidth": 0,
             "ticks": ""
            },
            "colorscale": [
             [
              0,
              "#0d0887"
             ],
             [
              0.1111111111111111,
              "#46039f"
             ],
             [
              0.2222222222222222,
              "#7201a8"
             ],
             [
              0.3333333333333333,
              "#9c179e"
             ],
             [
              0.4444444444444444,
              "#bd3786"
             ],
             [
              0.5555555555555556,
              "#d8576b"
             ],
             [
              0.6666666666666666,
              "#ed7953"
             ],
             [
              0.7777777777777778,
              "#fb9f3a"
             ],
             [
              0.8888888888888888,
              "#fdca26"
             ],
             [
              1,
              "#f0f921"
             ]
            ],
            "type": "contour"
           }
          ],
          "contourcarpet": [
           {
            "colorbar": {
             "outlinewidth": 0,
             "ticks": ""
            },
            "type": "contourcarpet"
           }
          ],
          "heatmap": [
           {
            "colorbar": {
             "outlinewidth": 0,
             "ticks": ""
            },
            "colorscale": [
             [
              0,
              "#0d0887"
             ],
             [
              0.1111111111111111,
              "#46039f"
             ],
             [
              0.2222222222222222,
              "#7201a8"
             ],
             [
              0.3333333333333333,
              "#9c179e"
             ],
             [
              0.4444444444444444,
              "#bd3786"
             ],
             [
              0.5555555555555556,
              "#d8576b"
             ],
             [
              0.6666666666666666,
              "#ed7953"
             ],
             [
              0.7777777777777778,
              "#fb9f3a"
             ],
             [
              0.8888888888888888,
              "#fdca26"
             ],
             [
              1,
              "#f0f921"
             ]
            ],
            "type": "heatmap"
           }
          ],
          "heatmapgl": [
           {
            "colorbar": {
             "outlinewidth": 0,
             "ticks": ""
            },
            "colorscale": [
             [
              0,
              "#0d0887"
             ],
             [
              0.1111111111111111,
              "#46039f"
             ],
             [
              0.2222222222222222,
              "#7201a8"
             ],
             [
              0.3333333333333333,
              "#9c179e"
             ],
             [
              0.4444444444444444,
              "#bd3786"
             ],
             [
              0.5555555555555556,
              "#d8576b"
             ],
             [
              0.6666666666666666,
              "#ed7953"
             ],
             [
              0.7777777777777778,
              "#fb9f3a"
             ],
             [
              0.8888888888888888,
              "#fdca26"
             ],
             [
              1,
              "#f0f921"
             ]
            ],
            "type": "heatmapgl"
           }
          ],
          "histogram": [
           {
            "marker": {
             "pattern": {
              "fillmode": "overlay",
              "size": 10,
              "solidity": 0.2
             }
            },
            "type": "histogram"
           }
          ],
          "histogram2d": [
           {
            "colorbar": {
             "outlinewidth": 0,
             "ticks": ""
            },
            "colorscale": [
             [
              0,
              "#0d0887"
             ],
             [
              0.1111111111111111,
              "#46039f"
             ],
             [
              0.2222222222222222,
              "#7201a8"
             ],
             [
              0.3333333333333333,
              "#9c179e"
             ],
             [
              0.4444444444444444,
              "#bd3786"
             ],
             [
              0.5555555555555556,
              "#d8576b"
             ],
             [
              0.6666666666666666,
              "#ed7953"
             ],
             [
              0.7777777777777778,
              "#fb9f3a"
             ],
             [
              0.8888888888888888,
              "#fdca26"
             ],
             [
              1,
              "#f0f921"
             ]
            ],
            "type": "histogram2d"
           }
          ],
          "histogram2dcontour": [
           {
            "colorbar": {
             "outlinewidth": 0,
             "ticks": ""
            },
            "colorscale": [
             [
              0,
              "#0d0887"
             ],
             [
              0.1111111111111111,
              "#46039f"
             ],
             [
              0.2222222222222222,
              "#7201a8"
             ],
             [
              0.3333333333333333,
              "#9c179e"
             ],
             [
              0.4444444444444444,
              "#bd3786"
             ],
             [
              0.5555555555555556,
              "#d8576b"
             ],
             [
              0.6666666666666666,
              "#ed7953"
             ],
             [
              0.7777777777777778,
              "#fb9f3a"
             ],
             [
              0.8888888888888888,
              "#fdca26"
             ],
             [
              1,
              "#f0f921"
             ]
            ],
            "type": "histogram2dcontour"
           }
          ],
          "mesh3d": [
           {
            "colorbar": {
             "outlinewidth": 0,
             "ticks": ""
            },
            "type": "mesh3d"
           }
          ],
          "parcoords": [
           {
            "line": {
             "colorbar": {
              "outlinewidth": 0,
              "ticks": ""
             }
            },
            "type": "parcoords"
           }
          ],
          "pie": [
           {
            "automargin": true,
            "type": "pie"
           }
          ],
          "scatter": [
           {
            "fillpattern": {
             "fillmode": "overlay",
             "size": 10,
             "solidity": 0.2
            },
            "type": "scatter"
           }
          ],
          "scatter3d": [
           {
            "line": {
             "colorbar": {
              "outlinewidth": 0,
              "ticks": ""
             }
            },
            "marker": {
             "colorbar": {
              "outlinewidth": 0,
              "ticks": ""
             }
            },
            "type": "scatter3d"
           }
          ],
          "scattercarpet": [
           {
            "marker": {
             "colorbar": {
              "outlinewidth": 0,
              "ticks": ""
             }
            },
            "type": "scattercarpet"
           }
          ],
          "scattergeo": [
           {
            "marker": {
             "colorbar": {
              "outlinewidth": 0,
              "ticks": ""
             }
            },
            "type": "scattergeo"
           }
          ],
          "scattergl": [
           {
            "marker": {
             "colorbar": {
              "outlinewidth": 0,
              "ticks": ""
             }
            },
            "type": "scattergl"
           }
          ],
          "scattermapbox": [
           {
            "marker": {
             "colorbar": {
              "outlinewidth": 0,
              "ticks": ""
             }
            },
            "type": "scattermapbox"
           }
          ],
          "scatterpolar": [
           {
            "marker": {
             "colorbar": {
              "outlinewidth": 0,
              "ticks": ""
             }
            },
            "type": "scatterpolar"
           }
          ],
          "scatterpolargl": [
           {
            "marker": {
             "colorbar": {
              "outlinewidth": 0,
              "ticks": ""
             }
            },
            "type": "scatterpolargl"
           }
          ],
          "scatterternary": [
           {
            "marker": {
             "colorbar": {
              "outlinewidth": 0,
              "ticks": ""
             }
            },
            "type": "scatterternary"
           }
          ],
          "surface": [
           {
            "colorbar": {
             "outlinewidth": 0,
             "ticks": ""
            },
            "colorscale": [
             [
              0,
              "#0d0887"
             ],
             [
              0.1111111111111111,
              "#46039f"
             ],
             [
              0.2222222222222222,
              "#7201a8"
             ],
             [
              0.3333333333333333,
              "#9c179e"
             ],
             [
              0.4444444444444444,
              "#bd3786"
             ],
             [
              0.5555555555555556,
              "#d8576b"
             ],
             [
              0.6666666666666666,
              "#ed7953"
             ],
             [
              0.7777777777777778,
              "#fb9f3a"
             ],
             [
              0.8888888888888888,
              "#fdca26"
             ],
             [
              1,
              "#f0f921"
             ]
            ],
            "type": "surface"
           }
          ],
          "table": [
           {
            "cells": {
             "fill": {
              "color": "#EBF0F8"
             },
             "line": {
              "color": "white"
             }
            },
            "header": {
             "fill": {
              "color": "#C8D4E3"
             },
             "line": {
              "color": "white"
             }
            },
            "type": "table"
           }
          ]
         },
         "layout": {
          "annotationdefaults": {
           "arrowcolor": "#2a3f5f",
           "arrowhead": 0,
           "arrowwidth": 1
          },
          "autotypenumbers": "strict",
          "coloraxis": {
           "colorbar": {
            "outlinewidth": 0,
            "ticks": ""
           }
          },
          "colorscale": {
           "diverging": [
            [
             0,
             "#8e0152"
            ],
            [
             0.1,
             "#c51b7d"
            ],
            [
             0.2,
             "#de77ae"
            ],
            [
             0.3,
             "#f1b6da"
            ],
            [
             0.4,
             "#fde0ef"
            ],
            [
             0.5,
             "#f7f7f7"
            ],
            [
             0.6,
             "#e6f5d0"
            ],
            [
             0.7,
             "#b8e186"
            ],
            [
             0.8,
             "#7fbc41"
            ],
            [
             0.9,
             "#4d9221"
            ],
            [
             1,
             "#276419"
            ]
           ],
           "sequential": [
            [
             0,
             "#0d0887"
            ],
            [
             0.1111111111111111,
             "#46039f"
            ],
            [
             0.2222222222222222,
             "#7201a8"
            ],
            [
             0.3333333333333333,
             "#9c179e"
            ],
            [
             0.4444444444444444,
             "#bd3786"
            ],
            [
             0.5555555555555556,
             "#d8576b"
            ],
            [
             0.6666666666666666,
             "#ed7953"
            ],
            [
             0.7777777777777778,
             "#fb9f3a"
            ],
            [
             0.8888888888888888,
             "#fdca26"
            ],
            [
             1,
             "#f0f921"
            ]
           ],
           "sequentialminus": [
            [
             0,
             "#0d0887"
            ],
            [
             0.1111111111111111,
             "#46039f"
            ],
            [
             0.2222222222222222,
             "#7201a8"
            ],
            [
             0.3333333333333333,
             "#9c179e"
            ],
            [
             0.4444444444444444,
             "#bd3786"
            ],
            [
             0.5555555555555556,
             "#d8576b"
            ],
            [
             0.6666666666666666,
             "#ed7953"
            ],
            [
             0.7777777777777778,
             "#fb9f3a"
            ],
            [
             0.8888888888888888,
             "#fdca26"
            ],
            [
             1,
             "#f0f921"
            ]
           ]
          },
          "colorway": [
           "#636efa",
           "#EF553B",
           "#00cc96",
           "#ab63fa",
           "#FFA15A",
           "#19d3f3",
           "#FF6692",
           "#B6E880",
           "#FF97FF",
           "#FECB52"
          ],
          "font": {
           "color": "#2a3f5f"
          },
          "geo": {
           "bgcolor": "white",
           "lakecolor": "white",
           "landcolor": "#E5ECF6",
           "showlakes": true,
           "showland": true,
           "subunitcolor": "white"
          },
          "hoverlabel": {
           "align": "left"
          },
          "hovermode": "closest",
          "mapbox": {
           "style": "light"
          },
          "paper_bgcolor": "white",
          "plot_bgcolor": "#E5ECF6",
          "polar": {
           "angularaxis": {
            "gridcolor": "white",
            "linecolor": "white",
            "ticks": ""
           },
           "bgcolor": "#E5ECF6",
           "radialaxis": {
            "gridcolor": "white",
            "linecolor": "white",
            "ticks": ""
           }
          },
          "scene": {
           "xaxis": {
            "backgroundcolor": "#E5ECF6",
            "gridcolor": "white",
            "gridwidth": 2,
            "linecolor": "white",
            "showbackground": true,
            "ticks": "",
            "zerolinecolor": "white"
           },
           "yaxis": {
            "backgroundcolor": "#E5ECF6",
            "gridcolor": "white",
            "gridwidth": 2,
            "linecolor": "white",
            "showbackground": true,
            "ticks": "",
            "zerolinecolor": "white"
           },
           "zaxis": {
            "backgroundcolor": "#E5ECF6",
            "gridcolor": "white",
            "gridwidth": 2,
            "linecolor": "white",
            "showbackground": true,
            "ticks": "",
            "zerolinecolor": "white"
           }
          },
          "shapedefaults": {
           "line": {
            "color": "#2a3f5f"
           }
          },
          "ternary": {
           "aaxis": {
            "gridcolor": "white",
            "linecolor": "white",
            "ticks": ""
           },
           "baxis": {
            "gridcolor": "white",
            "linecolor": "white",
            "ticks": ""
           },
           "bgcolor": "#E5ECF6",
           "caxis": {
            "gridcolor": "white",
            "linecolor": "white",
            "ticks": ""
           }
          },
          "title": {
           "x": 0.05
          },
          "xaxis": {
           "automargin": true,
           "gridcolor": "white",
           "linecolor": "white",
           "ticks": "",
           "title": {
            "standoff": 15
           },
           "zerolinecolor": "white",
           "zerolinewidth": 2
          },
          "yaxis": {
           "automargin": true,
           "gridcolor": "white",
           "linecolor": "white",
           "ticks": "",
           "title": {
            "standoff": 15
           },
           "zerolinecolor": "white",
           "zerolinewidth": 2
          }
         }
        },
        "title": {
         "font": {
          "size": 18
         },
         "text": "Harmless Test (Alpaca)",
         "x": 0.45
        },
        "width": 650,
        "xaxis": {
         "gridcolor": "darkgrey",
         "linecolor": "darkgrey",
         "linewidth": 1,
         "mirror": true,
         "range": [
          -0.05,
          1.05
         ],
         "showgrid": true,
         "showline": true,
         "tickfont": {
          "size": 13
         },
         "title": {
          "font": {
           "size": 15
          },
          "standoff": 2,
          "text": "Refusal/Safe %"
         },
         "zeroline": true,
         "zerolinecolor": "darkgrey"
        },
        "yaxis": {
         "gridcolor": "darkgrey",
         "linecolor": "darkgrey",
         "linewidth": 1,
         "mirror": true,
         "showgrid": false,
         "showline": true,
         "tickfont": {
          "size": 13.5
         },
         "ticktext": [
          "Gemma 2B",
          "Gemma 7B",
          "Llama2 13B",
          "Llama2 7B",
          "Llama3 8B",
          "Qwen 1.8B",
          "Qwen 7B",
          "Yi 6B"
         ],
         "tickvals": [
          0,
          1,
          2,
          3,
          4,
          5,
          6,
          7
         ],
         "title": {
          "font": {
           "size": 15
          }
         }
        }
       }
      }
     },
     "metadata": {},
     "output_type": "display_data"
    }
   ],
   "source": [
    "for i, benchmark_name in enumerate(benchmark_names):\n",
    "    plot_scatter(benchmark_name, titles[i])"
   ]
  },
  {
   "cell_type": "code",
   "execution_count": null,
   "metadata": {},
   "outputs": [],
   "source": []
  }
 ],
 "metadata": {
  "kernelspec": {
   "display_name": "refusal-direciton",
   "language": "python",
   "name": "python3"
  },
  "language_info": {
   "codemirror_mode": {
    "name": "ipython",
    "version": 3
   },
   "file_extension": ".py",
   "mimetype": "text/x-python",
   "name": "python",
   "nbconvert_exporter": "python",
   "pygments_lexer": "ipython3",
   "version": "3.12.7"
  }
 },
 "nbformat": 4,
 "nbformat_minor": 2
}
